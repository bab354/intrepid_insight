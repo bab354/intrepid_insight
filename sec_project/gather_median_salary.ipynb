{
 "cells": [
  {
   "cell_type": "code",
   "execution_count": 3,
   "metadata": {},
   "outputs": [],
   "source": [
    "import requests\n",
    "import os\n",
    "import bs4\n",
    "import re\n",
    "import datetime\n",
    "import csv"
   ]
  },
  {
   "cell_type": "markdown",
   "metadata": {},
   "source": [
    "I am setting up this script to only pull filings posted since last run "
   ]
  },
  {
   "cell_type": "code",
   "execution_count": 4,
   "metadata": {},
   "outputs": [],
   "source": [
    "last_time_run = datetime.datetime.strptime('01/01/2018', \"%m/%d/%Y\").date()"
   ]
  },
  {
   "cell_type": "code",
   "execution_count": 5,
   "metadata": {},
   "outputs": [],
   "source": [
    "form = 'DEF 14A'\n",
    "base_url = \"https://www.sec.gov/cgi-bin/srch-edgar\""
   ]
  },
  {
   "cell_type": "code",
   "execution_count": 6,
   "metadata": {},
   "outputs": [],
   "source": [
    "url = \"%s?text=%s&first=2018&last=2018\" %(base_url, form)\n",
    "list_of_forms = requests.get(url)\n",
    "soup = bs4.BeautifulSoup(list_of_forms.text, 'html.parser')"
   ]
  },
  {
   "cell_type": "code",
   "execution_count": 22,
   "metadata": {},
   "outputs": [],
   "source": [
    "table_of_filings = (soup.findAll(\"table\")[4]).findAll(\"tr\")\n",
    "num_filings = len(table_of_filings)"
   ]
  },
  {
   "cell_type": "markdown",
   "metadata": {},
   "source": [
    "Loop over all filings on first page"
   ]
  },
  {
   "cell_type": "code",
   "execution_count": 93,
   "metadata": {
    "scrolled": false
   },
   "outputs": [
    {
     "name": "stdout",
     "output_type": "stream",
     "text": [
      "1ST CONSTITUTION BANCORP\n",
      "all salaries ['$53,278', '$1,487,675', '$1,000,000']\n",
      "ratio 28.0\n",
      "emp_salary 53278.0\n",
      "ceo_salary 1487675.0\n",
      "1ST SOURCE CORP\n",
      "all salaries ['$1,855,632', '$45,286', '$62,500160', '$62,500160']\n",
      "ratio 41.0\n",
      "emp_salary 45286.0\n",
      "ceo_salary 1855632.0\n",
      "22nd Century Group, Inc.\n",
      "all salaries ['$711,375', '$36,608', '$345,987', '$1,903,500', '$128,836', '$128,836', '$64,418']\n",
      "Cant use ratio\n",
      "Pay RatioWe have determined the internal pay ratio betweenour chief executive officerrsquos total compensation and the median annual total compensation of all employees (except for thechief executive officer). We identified the ldquoMedian Employeerdquo based on the total annualized compensation of all full-timeand part-time employees employed by us on December 1, 2017. Our chief executive officer had annual compensation of $711,375 andour Median Employee had annual compensation of $36,608. Therefore, our chief executive officerrsquos annual total compensationis approximately nineteen (19) times that of the median of the annual compensation of all our employees.Grant of Plan-Based AwardsAs described above in theCompensation Discussion and Analysis, we granted stock options to certain of our NEOs in 2017. The following table sets forth informationregarding all such awards    Name    GrantDate    DateofBoardAction    AllOther Stock Awards: Numberof Sharesof Stock()    AllOther Option Awards: Numberof Securities Underlying Options()(1)    ExercisePriceof OptionAwards ($/Sh)    GrantDateFair ValueofStock andOption Awards($)(2)                                Henry Sicignano, III    5/24/2017    5/18/2017    -    333,000    $1.39    $345,987                                James E. Swauger, Ph.D.    10/31/2017    10/30/2017    -    1,200,000    $2.12    $1,903,500                                John T. Brodfuehrer    5/24/2017    5/18/2017    -    124,000    $1.39    $128,836                                Thomas L. James    5/24/2017    5/18/2017    -    124,000    $1.39    $128,836                                Michael R. Moynihan, Ph.D. (3)    5/24/2017    5/18/2017    -    62,000    $1.39    $64,418(1)Options vest over a period of three years with 1/3 of theoptions vesting on each one-year anniversary of the date of grant, except for 300,000 options awarded to James E. Swauger, Ph.D.that vest on the attainment of various performance milestones discussed above.  (2)Represents the grant fair value computed in accordancewith FASB ASC 718.  (3)These stock options awarded to Michael R. Moynihan, Ph.D.were forfeited due to his retirement effective on December 31, 2017.    17        Outstanding Equity Awards at 2017 FiscalYear-End        Option Awards    Stock    Awards    Name    Number    of Securities Underlying Unexercised Options Exercisable ()    Number    of Securities Underlying Unexercised Options Un- exercisable () (2)    Option    Exercise Price    Option    Expiration Date    Number    of Shares or Units of Stock That Have Not Vested ()    Market    Value of Shares or Units of Stock That Have Not Vested ($) (2)    Equity    Incentive Plan Awards: Number of Unearned Shares, Units or Other Rights That Have Not Vested    ()    Equity    Incentive Plan Awards: Market or Payout Value of Unearned Shares, Units or Other Rights That    Have Not Vested ($)                                        Mr. Sicignano    100,000    -    $0.69    5/18/2022    -    $-    -    $-        350,000    -    $0.96    2/16/2025\n",
      "2U, Inc.\n",
      "all salaries ['$60,703', '$3,389,499']\n",
      "ratio 56.0\n",
      "emp_salary 60703.0\n",
      "ceo_salary 3389499.0\n",
      "3D SYSTEMS CORP\n",
      "all salaries ['$1,933,108', '$55,683']\n",
      "ratio 35.0\n",
      "emp_salary 55683.0\n",
      "ceo_salary 1933108.0\n",
      "3M CO\n",
      "all salaries ['$20,494,285', '$63,338']\n",
      "ratio 324.0\n",
      "emp_salary 63338.0\n",
      "ceo_salary 20494285.0\n",
      "8X8 INC /DE/\n",
      "all salaries ['$4,758,619', '$103,405']\n",
      "ratio 46.0\n",
      "emp_salary 103405.0\n",
      "ceo_salary 4758619.0\n",
      "A. H. Belo Corp\n",
      "all salaries ['$54,142', '$2,053,650', '$117,000', '$10,000', '$20,000']\n",
      "ratio 37.0\n",
      "emp_salary 54142.0\n",
      "ceo_salary 2053650.0\n",
      "AAON INC\n",
      "all salaries ['$41,582', '$2,027,295', '$41,582']\n",
      "ratio 48.75\n",
      "emp_salary 41582.0\n",
      "ceo_salary 2027295.0\n",
      "AARON'S INC\n",
      "all salaries ['$31,512', '$7,019,209']\n",
      "Cant use ratio\n",
      "Pay Ratio DisclosureAs required by Section 953(b) of the Dodd-Frank Wall Street Reform and Consumer Protection Act, and Item 402(u) of Regulation S-K, we are providing the following information about the relationship of the annual total compensation of the individual identified as our 8220median8221 employee and the annual total compensation of John W. Robinson III, our President and Chief Executive Officer (8220CEO8221).For 2017, our last completed fiscal year:8226The annual total compensation of the employee identified as the median employee of our company (other than our CEO), was $31,512 8226The annual total compensation of our CEO was $7,019,209 and8226The ratio between the annual total compensation of our CEO to the annual total compensation of the median employee was estimated to be 223-to-1.42The methodology and material assumptions, adjustments, and estimates used to identify our median employee for this purpose were as follows:8226We selected December 31, 2017 as the determination date for purposes of identifying our median employee. We determined that, as of December 31, 2017, our employee population consisted of approximately 12,208 individuals globally. 8226All of our employees located outside the United States are located in Canada and in the aggregate comprise less than 5% of our total employee population. Pursuant to SEC rules, we excluded our Canadian population of 294 employees from the total employee population used to identify the median employee. As a result, the employee population used for purposes of identifying the median employee consisted of 11,914 employees, all of whom were located in the United States.8226Given the availability of payroll data, we employed statistical sampling (excluding our CEO) to identify the 8220median employee.8221 To identify the sample population, we used the annual rate of pay for 2017, with salaries annualized for those permanent employees who did not work for the full year. We combined each of Aaron8217s, Inc.8217s operating subsidiaries (the Aaron8217s Business, Progressive Leasing and Dent-A-Med, Inc.) into a singular population given the similarity of operating subsidiary population median pay. From this combined population we calculated the median, standard deviation and variance of this population to determine a sample size of 400 employees. A computer-generated random sampling method was employed to determine the individuals in the 400 person sample. We then obtained 2017 earnings reported in Box 1 on Form W-2 for each of the 400 employees in the sample to identify our median employee.8226With respect to the annual total compensation of the median employee, we identified and calculated the elements of such median employee8217s compensation using the same methodology reflected in the Summary Compensation Table. This pay ratio is a reasonable estimate calculated in a manner consistent with SEC rules based on our payroll and employment records and the methodology described above. The SEC rules for identifying the median paid employee and calculating this pay ratio allow companies to apply various methodologies and assumptions. As a result, the pay ratio reported above may not be comparable to the pay ratio reported by other companies.43AUDIT COMMITTEE REPORTCommittee Composition and SkillsThe Audit Committee is comprised of five non-employee directors. The Company8217s Board of Directors (the 8220Board8221) has determined that each member of the Audit Committee meets the independence and financial literacy requirements of the NYSE and the additional, heightened independence criteria that apply to members of the Audit Committee under SEC and NYSE rules. The Board has also determined that Ms. Day and Messrs. Curling, Ehmer, and Harris are 8220audit committee financial experts,8221 as defined by the SEC. All of the Audit Committee members attended 100% of the meetings of the Audit Committee held during our 2017 fiscal year, with the exception of one member who missed one Audit Committee meeting due to illness. See 8220Governance-Nominees to Serve as Director8221 for highlights of the experience, qualifications and skills of each Audit Committee member.Responsibilities of the Audit Committee, Management, and the External AuditorThe Audit Committee is responsible for the appointment, compensation, and oversight of Ernst amp Young LLP, which we refer to as 8220EY,8221 the Company8217s independent registered public accounting firm. Further, the Audit Committee is responsible for monitoring and overseeing the Company8217s financial reporting, internal controls, internal audit functions, and critical accounting policies and practices, all as set forth in the Audit Committee8217s charter, which is a written charter adopted by the Company8217s Board that outlines the responsibilities and practices of the Audit Committee. The Audit Committee charter is available throu\n"
     ]
    },
    {
     "name": "stdout",
     "output_type": "stream",
     "text": [
      "ABBOTT LABORATORIES\n",
      "all salaries ['$12,597', '$75,679,', '$26,863,000', '$14,545,000', '$33,219,000', '$18,191,000']\n",
      "ratio 251.0\n",
      "emp_salary -1\n",
      "ceo_salary -1\n",
      "PAY RATIO   In2017, we compared CEO pay to that of our median employee. To identify our median employee, we first excluded all 3,653 employees who are employed in Bolivia (213), Egypt (332),Indonesia (633), Mexico (1,122), Peru (1,329), and Venezuela (24), representing less than 5% of our global workforce of 89,647 employees as of October1, 20171. We then examinedthe 2017 base salary of all remaining employees globally, excluding our CEO, who were employed by us on October1, 2017. We annualized the base salary of all permanent employees who were hiredin 2017 but did not work for the entire year. The base salary for employees outside of the U.S. was converted to U.S. dollars. Afteridentifying the median employee, we collected annual total compensation for this employee using the same methodology we use for our named executive officers as disclosed in the SummaryCompensation Table on page 44 and then added the cost of medical and dental benefits ($12,597) in the calculation of annual total compensation for the median employee and CEO. Theannual total compensation of our median employee was $75,679, resulting in a ratio of 251:1. Theabove ratio and annual total compensation amount are reasonable estimates that have been calculated using methodologies and assumptions permitted by SEC rules.      1TotalU.S. employees: 24,988 total non-U.S. employees: 64,659.  8203 AbbottLaboratories61 8203  Table of Contents      RATIFICATION OF ERNSTamp YOUNGLLP AS AUDITORS  (ITEM 2 ON PROXY CARD)      Abbott's By-Laws provide that the Audit Committee shall appoint annually a firm of independent registered public accountants to serve asauditors. In October 2017, the Audit Committee appointed Ernstamp YoungLLP to act as auditors for 2018. Ernstamp YoungLLP has served as Abbott's auditors since 2014. Althoughthe Audit Committee has sole authority to appoint auditors, it would like to know the opinion of the shareholders regarding its appointment of Ernstamp YoungLLP as auditors for2018. For this reason, shareholders are being asked to ratify this appointment. If the shareholders do not ratify the appointment of Ernstamp YoungLLP as auditors for 2018, the AuditCommittee will take that fact into consideration, but may, nevertheless, continue to retain Ernstamp YoungLLP. The Board of Directors recommends a vote FOR ratification of the appointment of Ernstamp YoungLLP as auditors for 2018.Representativesof Ernstamp YoungLLP are expected to be present at the Annual Meeting and will be given the opportunity to make a statement if they desire to do so. They will also beavailable to respond to appropriate questions.      AUDIT FEES AND NON-AUDIT FEES        The following table presents fees for professional audit services by Ernstamp YoungLLP for the audit of Abbott's annual financial statements forthe years ended December31, 2017 and December31, 2016 and fees billed for other services rendered by Ernstamp Young during these periods.      8203  8203 8203 2017   8203 2016  8203  8203 82038203 82038203 8203 82038203 8203 82038203   Audit fees:(1)$26,863,000$14,545,000  8203  Audit related fees:(2)8203 624,0008203 404,000 8203  Tax fees:(3)5,732,0002,389,000  8203  All other fees:(4)8203 1518203 853,000 8203  8203 82038203 82038203 8203 82038203 8203 82038203   Total$33,219,000$18,191,000 8203 82038203 82038203 8203 82038203 8203 82038203   (1)Auditfees included amounts billed or to be billed for professional services rendered for the audit of Abbott's annual financial statements, the reviewof Abbott's financial statements included in Abbott's quarterly reports, and the audits of Abbott's internal control over financial reporting, statutory and subsidiary audits, the review of documentsfiled with the Securities and Exchange Commission,\n",
      "AbbVie Inc.\n",
      "all salaries ['$157,347', '$4,806,781']\n",
      "ratio 144.0\n",
      "emp_salary -1\n",
      "ceo_salary -1\n",
      "Pay Ratio Disclosure        As required by Section953(b) of the Dodd-Frank Wall Street Reform and Consumer Protection Act and Item402(u) ofRegulationS-K, we are providing the following information about the relationship of the annual total compensation of our employees and the annual total compensation of our CEO, RichardGonzalez. The pay ratio included in this information is a reasonable estimate calculated in a manner consistent with RegulationS-K Item402(u). The ratio of Mr.Gonzalez's annualtotal compensation for 2017, as reported in the Summary Compensation Table in this proxy statement, to the median employee annual total compensation determined on the same basis was 144:1. For 2017,the annual total compensation of our median employee (other than Mr.Gonzalez) was $157,347. To identify the median employee, we prepared a list of all active AbbVie employees throughout theworld as of December28, 2017. The consistently applied compensation measure used to identify the median employee was annual base pay and target bonus, using hours worked during 2017 for hourlyemployees and base salary for the remaining employees. This process resulted in a median group consisting of several employees and a representative employee was selected in accordance with SECguidance, taking into account demographic characteristics that best represent a typical AbbVie employee, including tenure, location, employment status and applicable compensation and benefit programs.  8203 2018 Proxy Statement 124  45  8203  Table of Contents 8203  EXECUTIVE COMPENSATION  8203                              2017 Grants of Plan-Based Awards  Thefollowing table summarizes the equity awards granted under the AbbVie 2013 Incentive Stock Program to the NEOs during 2017.    Estimated FuturePayouts UnderNon-EquityIncentive PlanAwards(1)EstimatedFuturePayoutsUnder EquityIncentivePlan AwardsTarget()All OtherOptionAwards:Numbers ofSecuritiesUnderlyingOptions()Exerciseor BasePrice ofOptionAwards($/Sh)ClosingMarketPrice onGrantDateGrant DateFair Valueof Stockand OptionAwardsNameGrantDateTarget($)Maximum($) 8203 8203 8203 82038203 8203 8203 8203 8203 82038203 8203 82038203 8203 8203 8203 8203 82038203 8203 8203 8203 8203 8203 R. Gonzalez 2/16/20178203 82038203 82038203 78,220(2)8203 82038203 82038203 82038203 $4,806,781(4) 8203 2/16/20178203 82038203 82038203 78,220(3)8203 82038203 82038203 82038203 4,799,579(4) 8203 2/16/20178203 82038203 82038203 82038203 261,150(5)8203 $61.368203 $61.488203 2,559,270(6)W. Chase2/16/201729,980(2)1,842,333(4)2/16/201729,980(3)1,839,573(4)2/16/2017100,100(5)61.3661.48980,980(6) L. Schumacher 2/16/20178203 82038203 82038203\n",
      "ABERCROMBIE & FITCH CO /DE/\n",
      "all salaries ['$2,991', '$10,262,749', '$3,287,847', '$3,287,847', '$1,800,000', '$3,600,0003', '$1,764,3333']\n",
      "ratio 431.0\n",
      "emp_salary -1\n",
      "ceo_salary -1\n",
      "Pay Ratio The following information about the relationship between the compensation of our employees and the compensation of Ms.Horowitz, our ChiefExecutive Officer, is provided in compliance with the requirements of Item 402(u) of SEC Regulation S-K (147Item 402(u)148). In Fiscal 2017, the estimated median of the annual total compensation of ouremployees, excluding Ms.Horowitz, was $2,991.  In identifying the median of the annual total compensation of all our employees, wetook the following steps. We determined that, as of October29, 2017, the first day of our fourth fiscal quarter, our employee population was equal to 39,241 individuals. This number includes all the individuals determined to be employees forfederal income tax purposes, whether full-time, part-time, or temporary as of that date. Next, we identified the employee receiving the median amount of compensation in our employee population. To do this, we compared the amount ofwages and other compensation received by each employee, other than Ms.Horowitz, as reflected in our payroll records and reported to the Internal Revenue Service on Form W-2 for the calendar year endedDecember31, 2017. Compensation values were not annualized for mid-year hires, as we do not use a 147standard hour148 staffing model in many of our operating jurisdictions. Compensation values forour foreign employees were converted to U.S. dollars by using the foreign currency   78 Table of Contents exchange rate on December31, 2017. As required by Item 402(u), we measured our median employee146s annual total compensation for Fiscal 2017 by adding together the same elements ofcompensation that are included in Ms.Horowitz146s total Fiscal 2017 compensation, as reported in the 147Fiscal 2017 Summary Compensation Table148 (beginning on page 77 of this Proxy Statement). Ms.Horowitz146s totalcompensation for Fiscal 2017, as reported in the 147Fiscal 2017 Summary Compensation Table148, was $10,262,749. This figure includes a one-time award of Promotional RSUs with a grant date fairvalue of $3,287,847, which artificially increases Ms.Horowitz146 compensation under SEC reporting standards.  The resultingestimated ratio of the annual total compensation of Ms.Horowitz to the median of the annual total compensation of all employees was 3,431 to 1, which was calculated in a manner consistent with Item 402(u) and includes Ms.Horowitz146s one-time Promotional RSU award, which had a grant date fair value of $3,287,847. As additional context, the magnitude of our ratio is influenced by our store staffing model which relies on a significant number ofpart-time and seasonal employees. This approach to store staffing provides flexible, entry-level employment opportunities to students151many of whom are among our core customer demographic151that can become thefoundation for a career at Abercrombieamp Fitch and ensures that our stores are staffed by career-focused, goal-driven individuals. For reference, our median employee is a part-time associate and full-time student who worked for, on average,seven hours a week for a period of nine months.  Further, other public companies will use methods and assumptions that differ from thosewe have chosen, but that are appropriate for their circumstances. Therefore, it may be difficult, for this and other reasons, to compare our reported pay ratio to pay ratios reported by other companies. Grants of Plan-Based Awards The following table sets forth information regarding cash and stock-based incentive awards granted to the NEOs during Fiscal 2017. Fiscal 2017 Grants of Plan-Based Awards   Estimated Future Payoutsunder Non-Equity IncentivePlanAwards(1)Estimated Future Payoutsunder Equity Incentive PlanAwardsAllOtherStockAwards:NumberofShares ofStock orUnitsAll OtherOption/SARAwards:NumberofSharesUnderlyingOptions/SARs(2)Exerciseor BasePrice ofOption/SARAwardsGrantDate FairValueperShareofStockAwardsandOption/SARAwardsGrantDateFairValueofStockAwardsandOption/SARAwards(3) NameGrantDateThreshold($)Target($)Maximum($)Threshold()Target()Maximum() Fran HorowitzFiscal2017$0$1,800,000$3,600,0003/21/2017185,915(4)$9.49$1,764,3333/21/2017nb\n"
     ]
    },
    {
     "name": "stdout",
     "output_type": "stream",
     "text": [
      "ABIOMED INC\n",
      "all salaries ['$122,674', '$10,304,726', '$122,674', '$17,724,']\n",
      "ratio 84.0\n",
      "emp_salary 122674.0\n",
      "ceo_salary 10304726.0\n",
      "ABRAXAS PETROLEUM CORP\n",
      "all salaries ['$452,333', '$91,834', '$1,099,937', '$94,454', '$8,846', '$304,308,', '$2,620', '$9,450', '$3,000', '$1,454,166', '$452,333']\n",
      "Cant use ratio\n",
      "Pay RatioPresidentand CEOMedianEmployee Base Salary$452,333$91,834 Non-Equity Incentive Plan Compensation322,000151 Discretionary Bonus313,154(1)2,620(2) All Other Compensation12,450(3)151    $1,099,937$94,454     (1)This amount reflects a discretionary holiday bonus and a one-time discretionary bonus of $8,846 and $304,308, respectively,awarded to Mr.Watson in 2017. (2)This amount reflects a $2,620 safety bonus to the median employee. (3)This amount represents a $9,450 contribution by Abraxas to Mr.Watson146s 401(k) plan and a $3,000 contribution to Mr.Watson146s health savingsaccounts for 2017.   17 Table of Contents Elements of Executive Compensation Executive compensation consists of the following elements:  Base Salary. In determining base salaries for the executive officers of Abraxas, we aim to set base salaries at a level we believe enables us to hire and retain individuals in a competitiveenvironment and to reward individual performance and contribution to our overall business goals. In addition, we take into consideration the responsibilities of each executive officer and determine compensation appropriate for the positions held andexpectations of services rendered during the year. During 2015, 2016 and 2017 we utilized a list of peer companies originally provided by LampA in 2014 and updated by the Committee due to bankruptcies and other corporate events to analyze oursalary structure. LampA originally identified, and the Committee updated, potential peer candidates based on 1) companies of similar size, 2) other similar companies in the oil and gas exploration industry, and 3) similar operations in comparablegeographic areas. LampA then analyzed (and the Committee updated) each company based on:  149 Market capitalization  149 Revenue  149 Assets  149 Enterprise value and  149 Operational similarities.  Using these criteria, in 2017 the following were the comparable companies utilized by the Committee: Approach Resources, Inc. (AREX), Contango Oilamp Gas Company (MCF), Earthstone Energy, Inc.(ESTE), Gastar Exploration Inc. (GST), Lonestar Resources US Inc. (LONE), Ring Energy, Inc. (REI) and Rosehill Resources Inc. (ROSE). Lonestar Resources and Rosehill Resources were added to the list in 2017 based upon the criteria originallyutilized by LampA. Callon Petroleum Company (CPE), Comstock Resources, Inc. (CRK), Evolution Petroleum Corporation (EPM) and Northern Oil and Gas, Inc. (NOG), were removed from the list as they were no longer comparable companies due to marketcapitalization or lack of operational similarities.  Abraxas146 salary range is set by reference to the salaries paid bythe comparable companies considering the responsibilities and expectations of each executive officer while remaining within Abraxas146 budgetary constraints. We utilize salary information from the comparable companies to compare Abraxas146salary structure with those other companies that compete with Abraxas for executives but without targeting salaries to be higher, lower or approximately the same as those companies. We believe that the base salary levels for our executive officersare consistent with the practices of the comparable companies, and increases in base salary levels from time to time are designed to reflect competitive practices in the industry, individual performance and the officer146s contribution to ouroverall business goals. Individual performance and contribution to the overall business goals of Abraxas are subjective measures and evaluated by Mr.Watson and the Compensation Committee and, with respect to Mr.Watson only, theCompensation Committee.  The base salaries paid to our named executive officers in 2017 are set forth below in the SummaryCompensation Table. For 2017, base salaries, paid as cash compensation, were $1,454,166 with Mr.Watson receiving $452,333. We believe that the base salaries paid achieved our objectives. Annual Bonuses. Abraxas146 Annual Bonus Plan was initially adopted by our Board of Directors in 2003. In May 2017, inconnection with the Company146s annual compensation cycle, the Compensation Committee asked LampA to conduct a thorough review of the Company146s grant practices under the Annual Bonus Plan. Under the terms of the Annual Bonus Plan asapproved by Abraxa\n",
      "ACACIA RESEARCH CORP\n",
      "all salaries ['$223,5851601603', '$222,6501601602', '$223,5851601603', '$222,6501601602', '$223,5851601603', '$222,6501601602']\n",
      "Cant use ratio\n",
      "Pay Ratio Rule, represents the annualized amount reported in the 8220Total8221 column in the Summary Compensation Table (i.e., Mr. Key resigned as Interim Chief Executive Officer on April 19, 2017), and includes certain severance related payments.Executive OfficersThe table below provides information concerning our executive officers as of the date of this Proxy Statement(1). Name160Age160Positions with the CompanyRobert B. Stewart, Jr.16052160PresidentClayton J. Haynes16048160Chief Financial Officer, Treasurer and Senior Vice President, FinanceEdward J. Treska16052160160Executive Vice President, General Counsel and Secretary____________________(1)Marvin Key resigned as Interim Chief Executive Officer on April 19, 2017. 160Robert B. Stewart, Jr.32joined Acacia Research Corporation in August 1997 as Vice President. In August 2004, Mr. Stewart was appointed our Senior Vice President. On April 19, 2017, Mr. Stewart was appointed our President upon the resignation of Mr. Key. Mr. Stewart received a B.S. degree from the University of Colorado at Boulder.   32Clayton J. Haynes32joined Acacia Research Corporation in April 2001 as Treasurer and Senior Vice President, Finance. In November 2001, Mr. Haynes was appointed our Chief Financial Officer. From 1992 to March 2001, Mr. Haynes was employed by PricewaterhouseCoopers LLP, ultimately serving as a Manager in the Audit and Business Advisory Services practice. Mr.160Haynes received a B.A. degree from the University of California at Los Angeles, an M.B.A from the University of California at Irvine Paul Merage School of Business and is a Certified Public Accountant (Inactive).46Edward J. Treska joined Acacia Research Corporation in April 2004 as Vice President. He was appointed Secretary in March 2007, General Counsel in March 2010 and Senior Vice President in October 2011. On April 19, 2017 Mr. Treska was appointed Executive Vice President upon the resignation of Mr. Key. Prior to joining us, Mr. Treska served as General Counsel, Director of Patents and Licensing for SRS Labs, Inc., a technology licensing company specializing in audio enhancement, between 1996 and 2004. Prior to joining SRS Labs, Mr. Treska practiced law at the intellectual property law firm of Knobbe, Martens, Olson amp Bear and prior to law school was a design engineer with the former TRW Space amp Technology Group. Mr. Treska is a registered patent attorney who received a B.S. degree in Electrical Engineering from Colorado State University and a J.D. degree from the University of San Diego School of Law. Mr. Treska has also served on the Board of Directors of Veritone, Inc. since August 2016. 47GRANTS OF PLAN-BASED AWARDS TABLE FOR FISCAL 201732160160160Estimated Future Payouts Under Non-Equity160 Incentive160Plan160Awards160Estimated160Future160 Payouts160UnderEquity Incentive Plan Awards160All160OtherStock160 Awards:Number of Shares ofStock or Units () 160All OtherOption160Awards:Number ofSecuritiesUnderlyingOptions() (2)160Exercise160orBase Priceof OptionAwards($160/160Sh)160Grant DateFair Value of Stock and Option160160Awards ($) (1)Name160Grant DateThreshold($)(4)Target($)(4)Maximum($)(4)160Threshold()Target()Maximum()160160160160160160160160160160160160160160160160160160160160160160160160160160Robert B. Stewart, Jr.1603/15/2017821282128212160821282128212160821216096,1531605.40160$223,5851601603/15/20178212821282121608212821282121608212160113,0321606.75160$222,6501601602/16/2017821282128212160821282128212160821216082121608212160$8212160160160160160160160160160160160160160160160160160160Clayton J. Haynes1603/15/2017821282128212160821282128212160821216096,1531605.40160$223,5851601603/15/20178212821282121608212821282121608212160113,0321606.75160$222,6501601602/16/2017821282128212160821282128212160821216082121608212160$8212160160160160160160160160160160160160160160160160160160Edward J. Treska1603/15/2017821282128212160821282128212160821216096,1531605.40160$223,5851601603/15/20178212821282121608212821282121608212160113,0321606.75160$222,6501601602/16/2017821282128212160821282128212160821216082121608212160$8212Marvin Key(3)160160821282128212160821282128212160821216082121608212160$8212____________________(1)For financial statement purposes, the fair\n"
     ]
    },
    {
     "name": "stdout",
     "output_type": "stream",
     "text": [
      "Acadia Healthcare Company, Inc.\n",
      "all salaries ['$25,830', '$8,633,100', '$124,000', '$159,985', '$283,985']\n",
      "ratio 334.0\n",
      "emp_salary 25830.0\n",
      "ceo_salary 8633100.0\n",
      "ACADIA PHARMACEUTICALS INC\n",
      "all salaries ['$15,158,146', '$283,058,', '$50,000', '$30,000', '$20,000', '$10,000', '$20,000', '$10,000', '$10,000', '$5,000']\n",
      "ratio 54.0\n",
      "emp_salary 283058.0\n",
      "ceo_salary 15158146.0\n",
      "ACADIA REALTY TRUST\n",
      "all salaries ['$4,514,163', '$104,500', '$145,000,', '$65,000', '$80,000', '$12,500,', '$20,000', '$100,000']\n",
      "Cant use ratio\n",
      "Pay RatioFor 2017, the Company estimated the ratio between the chief executive officer8217s total compensation and the median annual total compensation of all employees (except the chief executive officer). In searching for the median employee, base compensation totals in 2017 were considered. The 8220Median Employee8221 was identified using the base compensation of all full-time, part-time, and temporary employees employed by the Company on December 31, 2017, then the Median Employee8217s compensation was calculated under the Summary Compensation Table rules. The chief executive officer had annual total compensation of $4,514,163 and the Median Employee had annual total compensation of $104,500. Therefore, the chief executive officer8217s annual total compensation is estimated as 43 times that of the median of the annual total compensation of all employees.BOARD OF TRUSTEES COMPENSATIONEach Trustee who is not also an officer and full-time employee of the Company or the Operating Partnership receives an annual Trustee fee in the amount of $145,000, comprised of $65,000 cash and $80,000 of Restricted Share Units or Restricted LTIP Units. In addition, Committee chairs receive an annual fee of $12,500, with the exception of the Audit Committee chair who receives an annual fee of $20,000. In addition to the other Trustee fees, the Lead Trustee receives an annual Lead Trustee fee of $100,000. These Restricted Share Units or Restricted LTIP Units vest over three years with 33% vesting on each of the next three anniversaries of the grant date. Trustees have the option to convert all or part of any cash payment due to them to Common Shares or LTIP Units with a vesting period of one year at a 10% discount to the preceding 20-day average share price from the date of the 2017 Annual Meeting. No dividends are paid currently on Restricted Share Units but instead cumulate and are paid when they vest.Trustees who are officers and full-time employees of the Company or its subsidiaries receive no separate compensation for service as a Trustee or Committee member. Additionally, members of the Board of Trustees are reimbursed for travel and lodging expenses associated with attending meetings of the Board and committees of the Board.Pursuant to the Company's 2006 Deferred Compensation Plan (the \"Deferred Compensation Plan\"), Trustees may elect to defer receipt of their annual trustee fees. Each Trustee participating in the Deferred Compensation Plan has an account, which the administrator credits with a number of Common Shares having a fair market value (as of the date of the credit) equal to the amount of the participant's compensation that the Trustee has elected to defer and would otherwise have been paid in cash or other property to the Trustee during the preceding month. The Deferred Compensation Plan generally allows the Trustees to defer receipt of their compensation and, therefore, defer paying tax on that compensation. To defer eligible compensation for any given calendar year, a Trustee must make a written election at least 30 days before the calendar year begins. The Company will credit each Trustee's deferred compensation account with additional Common Shares that (i) have a fair market value, when credited, equal to the product of any per Common Share cash dividend paid during the prior quarter and the number of Common Shares credited to the Trustee's account and (ii) equitably adjust the Trustee's account for any share dividends that would have been paid during the prior month with respect to the Common Shares credited to the Trustee's account on the last day of the prior quarter. Generally, a Trustee's account will be paid to the Trustee upon his or her separation of service from the Company and will be paid to his or her beneficiaries in the event of his or her death, in each case based on the timeframe for distributions specified in the Trustee's deferral election form. Under certain circumstances, the Board may permit a Trustee to withdraw a limited number of Common Shares from his or her account if the Trustee suffers a Hardship (as defined in the Deferred Compensation Plan).For 2017, Ms. Luscombe and Mr. Crocker elected to defer payment of their Trustee fees that are payable in Common Shares. No other Trustee elected to defer compensation for 2017.See the Board of Trustees Compensation Table below for a summary of the compensation paid to the members of the Board of Trustees during 2017.41TRUSTEE COMPENSATION160160160160160160160160160160160160160160160160160160160Name160Fees Earned or Paid in Cash ($)160Stock Awards ($) (2)160Option Awards ($)160Non-Equity Incentive Plan Compensation ($)160Change in Pension Value and Nonqualified Deferred Compensation Earnings ($)160All Other Compensation ($) (10)160Total ($)160160160160160160160160160160160160160160160Lee S. Wielansky (\n",
      "Accelerate Diagnostics, Inc\n",
      "all salaries ['$164,738', '$375,000', '$73,438', '$91,300', '$375,000,']\n",
      "ratio 2.3\n",
      "emp_salary 164738.0\n",
      "ceo_salary 375000.0\n",
      "ACCELERON PHARMA INC\n",
      "all salaries ['$1,322,314', '$158,210,', '$40,000', '$35,000', '$20,000', '$10,000', '$15,000', '$7,500', '$10,000', '$5,000']\n",
      "Cant use ratio\n",
      "Pay Ratio DisclosurePursuant to Section 953(b) of the Dodd-Frank Wall Street Reform and Consumer Protection Act and Item 402(u) of Regulation S-K, we are required to disclose the ratio of the annual total compensation of our principal executive officer to the median of the annual total compensation of all of our employees other than our principal executive officer. During fiscal 2017, our principal executive officer was our President and Chief Executive Officer, Habib Dable. For 2017, the annual total compensation for Mr. Dable, as reported in the Summary Compensation Table, was $1,322,314, and the annual total compensation for our median employee was $158,210, resulting in an estimated pay ratio of approximately 8:1. As noted above, Mr. Dable did not receive any equity awards during 2017 and his annual total compensation for future years is expected to be higher because he is expected to receive grants of equity awards in future years.In accordance with Item 402(u) of Regulation S-K, we identified the median employee as of October 1, 2017 by aggregating for each employee employed on this date (i) annual base salary for salaried employees or wages multiplied by estimated work schedule for hourly employees, (ii) target incentive compensation for 2017, and (iii) estimated accounting value of any equity awards granted during 2017. We chose this as our consistently applied compensation measure because we believed it was representative of employee compensation at Acceleron. We then ranked this compensation measure for our employees from lowest to highest. This calculation was performed for all of our employees who were employed on October 1, 2017, excluding Mr. Dable. At the end of fiscal year 2017, we calculated the final fiscal year 2017 total compensation for the previously selected median employee and this employee's compensation was determined to be anomalous due to a one-time equity award granted to the median employee. Accordingly, we exercised discretion permitted by SEC rules to select an alternate median employee, whose compensation was viewed to be more representative of employees at or near the median. The selected employee was located immediately below the previously selected median employee. Once we selected the median employee, we calculated this employee8217s compensation in the same manner as we calculated Mr. Dable8217s compensation for purposes of the Summary Compensation Table.The pay ratio reported above is a reasonable estimate calculated in a manner consistent with SEC rules based on our internal records and the methodology described above. The SEC rules for identifying the median compensated employee and calculating the pay ratio based on that employee8217s annual total compensation allow companies to adopt a variety of methodologies, to apply certain exclusions, and to make reasonable estimates and assumptions that reflect their employee populations and compensation practices. Accordingly, the pay ratio reported by other companies may not be comparable to the pay ratio reported above, as other companies have different employee populations and compensation practices and may utilize different methodologies, exclusions, estimates and assumptions in calculating their own pay ratios.40Table of ContentsDirector CompensationOur non-employee director compensation policy is designed to provide a total compensation package that enables us to attract and retain, on a long-term basis, high caliber non-employee directors. Under the policy for 2017, all non-employee directors were eligible to receive cash compensation as set forth below, prorated for any partial year of service:1602017 AnnualRetainerBoard of Directors:160All non-employee members$40,000Additional retainer for Chair of the Board of Directors$35,000Audit Committee:160Chair$20,000Non-Chair members$10,000Compensation Committee:160Chair$15,000Non-Chair members$7,500Nominating and Corporate Governance Committee:160Chair$10,000Non-Chair members$5,000Under our non-employee director compensation policy for 2017, each person who is initially appointed or elected to the Board of Directors is eligible to receive an option to purchase 20,000 shares of our common stock under our 2013 Equity Incentive Plan on the date he or she first becomes a non-employee director, which will vest quarterly in equal installments over a three-year period, generally subject to the non-employee director's continued service. In addition, each continuing non-employee director is eligible to receive an annual option grant to purchase 7,500 shares of our common stock and an annual award of 1,250 restricted stock units, in each case, which will vest in full on the first anniversary of the grant date, generally subject to the non-employee director's continued service. The annual equity awards are prorated when granted to any non-employee director who becomes a non-employee director during the fiscal year, based on the portion of the fiscal year that t\n"
     ]
    },
    {
     "name": "stdout",
     "output_type": "stream",
     "text": [
      "ACCESS NATIONAL CORP\n",
      "all salaries ['$68,234', '$692,471', '$36,000', '$12,000', '$48,000', '$192,000']\n",
      "Cant use ratio\n",
      "Pay RatioAs required by SEC rules,we are providing our shareholders the following information about the relationship of the annual total compensation of our employeesand the annual total compensation of our CEO.We determined that the2017 annual total compensation of our median compensated employee, from of all our employees who were employed as of December 31,2017, other than our CEO, was $68,234 our CEOrsquos 2017 annual total compensation was $692,471 and the ratio of these amountswas 1:10.As of December 31, 2017,our total population consisted of 397 employees, all located in the United States. This population consisted of all of ourfull-time, part-time and temporary employees.To identify the mediancompensated employee, we used the total actual wages for the period from January 1, 2017 to December 31, 2017 as reported to theInternal Revenue Service on Box 1 of Form W-2.We did not make any cost-of-living adjustments in identifying the mediancompensated employee. Once we identified our median compensated employee, we calculated the median compensated employeersquosand our CEOrsquos 2017 annual total compensation in accordance with the requirements of the regulations.Thispay ratio is a reasonable estimate calculated in a manner consistent with SEC rules based on our payroll and employment recordsand the methodology described above. The SEC rules for identifying the median compensated employee and calculating the pay ratiobased on that employeersquos annual total compensation allow companies to adopt a variety of methodologies, to apply certainexclusions, and to make reasonable estimates and assumptions that reflect their compensation practices. As such, the pay ratioreported by other companies may not be comparable to the pay ratio reported above, as other companies may have different employmentand compensation practices and may utilize different methodologies, exclusions, estimates and assumptions in calculating theirown pay ratios.    34        Director CompensationThe compensation philosophyand objectives described earlier also apply to the Corporationrsquos non-employee directors. The Corporationrsquos generalpractice is to pay the directors a basic cash retainer on a quarterly or monthly basis that is designed to compensate directorsfor their participation on the Board and the execution of their basic duties and responsibilities. Beginning in 2006 (for 2005performance), the Compensation Committee also conducts an annual evaluation of performance under criteria similar to that usedfor its executive cash bonuses for payment of annual incentives to directors. Incentives have been paid in cash, option awardsor some combination thereof historically. Future incentives to non-employee directors under the Corporationrsquos 2017 Plan couldinclude restricted stock, restricted stock units, stock appreciation rights, performance units or performance cash awards.In 2017, the non-employeedirectors agreed to a basic annual retainer of $36,000 each, payable monthly, for 2017 until completion of the acquisition of Middleburg,with the Chairman to receive an additional $12,000 annual retainer, payable monthly, for 2017 until completion of the acquisitionof Middleburg, which occurred on April 1, 2017. The collective retainer amount paid to the directors for January to March 2017was $48,000 in the aggregate, or $192,000 annualized, which equated to 44.1% of the CEOrsquos base salary effective on January1, 2017.As described in the BoardProcess section, in the first quarter of 2017 the Compensation Committee engaged an independent consultant, ChaseCompGroup,to assist and advise on matters related to director compensation for the increased size of the Corporation and aggregate numberof non-employee directors as a result of the Merger. The Committee subsequently approved the following compensation arrangementfor non-employee directors for 2017, effective upon completion of the Merger, which occurred on April 1, 2017. Upon the establishmentand shareholder approval of the 2017 Plan, which occurred in October 2017, all retainers for the non-employee directors, the BoardChairman, the Board Committee Chairs and the Executive Committee Members shall be paid in the form of equity awards in amountsequal to the dollar values in the below table. Prior to this change, these fees were paid in cash. For 2017, 50% of non-employeedirector, Board Chairman, Board Committee Chair and Executive Committee Member retainers were payable after the first Board meetingin April 2017, and the remaining balance was paid in the form of stock option awards on March 15, 2018, prorated for the nine monthsserved under this compensation arrangement, subject to attendance of at least 75% of all Board and Board Committee meetings andcompliance with Board level p\n",
      "ACCO BRANDS Corp\n",
      "all salaries []\n",
      "Cant use ratio\n",
      "Pay Ratio to that of other companies will be limited in value.16046PENSION BENEFITSThe Pension Benefits table provides information regarding the number of years of credited service, the present value of accumulated benefits, and any payments made during the fiscal year ended December 31, 2017 with respect to the ACCO U.S. Pension, the ACCO U.K. Pension, and the Polish retirement plan for each of the named executive officers.160Name160Plan Name160Years ofCreditedService (1)()160Present Valueof AccumulatedBenefit (2)($)160PaymentsDuring LastFiscal Year($)Boris Elisman160ACCO U.S. Pension1604160105,0001608212Neal V. Fenwick160ACCO U.K. Pension160221605,948,9701608212160ACCO U.S. Pension160316085,0001608212Thomas W. Tedford160N/A160821216082121608212Cezary Monko160Polish Retirement Plan1608212160100,0001608212Pamela R. Schneider160N/A160821216082121608212(1)Years of Credited Service for the ACCO U.S. Pension are shown through March 6, 2009, the date on which the ACCO U.S. Pension plan was frozen. Mr. Fenwick participated in the ACCO U.K. Pension until April 1, 2006. Vesting service, which determines vesting and eligibility for early retirement benefits, continues to grow. As of December 31, 2017, vesting service is 8.75 years greater (absent any break-in-service or termination) than credited since shown in the table above.(2)Amounts reported above as the actuarial present value of accumulated benefits under the ACCO U.S. Pension are computed using the interest and mortality assumptions that the Company applies to amounts reported in its financial statements, and are assumed to be payable at age 65. Despite the plan being frozen, the value of the benefit changes due to the assumptions utilized in these calculations. For 2017, the present value of the accumulated pension benefit increased since the prior year is directly related to an decrease in the discount rate. The interest rate assumption is 3.72%. The mortality table assumption for the ACCO U.S. Pension is based upon the Aggregate RP-2006 Mortality Table projected using the Projection Scale MP-2017. Amounts reported above as the actuarial present value of accumulated benefit for Mr. Fenwick under the ACCO U.K. Pension assumes an interest rate of 2.5%, an inflation rate of 3.2%, an exchange rate (as of December 31, 2017) of $1.3444 to one British Pound and utilizes the SAPS S2 Tables using CMI 2016 future improvements, subject to an underpin of 1.25% per annum. Amounts reported above as the actuarial present value of accumulated benefit for Mr. Monko under the Poland Statutory Retirement Obligation assumes an interest rate of 3.5%, a salary increase assumption (for projection purposes) of 3.0%, and a Polish Zloty exchange rate on December 31, 2017 of $0.2861.ACCO U.S. PensionThe ACCO U.S. Pension is a broad-based, tax-qualified defined benefit pension plan, which provides a monthly cash benefit upon retirement to eligible employees of the Company, including the participating named executive officers. Historically, eligible employees included all salaried and certain hourly paid employees (regularly scheduled to work at least twenty hours per week) of the Company, except leased employees, independent contractors, certain collectively-bargained employees, and employees accruing benefits under an affiliated company foreign pension plan. Employees must have completed one year of service to participate in the ACCO U.S. Pension and five years of service to vest in the benefit. The determination of benefits under the ACCO U.S. Pension is based upon years of credited service with the Company and its participating U.S. subsidiaries and the average of the highest five consecutive years of earnings within the last ten years of vesting service. \"Eligible Earnings\" include base pay and certain regularly occurring bonuses, but do not include amounts that have been deferred and, for years of credited service prior to 2002, annual bonuses. All benefit service and accruals for benefits under the ACCO U.S. Pension were frozen on March 6, 2009. As a result, no additional benefits will accrue from that date for any of the named executive officers unless action is taken to reinstate any such benefits.Benefits under the ACCO U.S. Pension are calculated in the following manner: A participant8217s benefit for credited service accrued prior to January 1, 2002 equals the product of (A) his years of credited service multiplied by (B) the sum of (i) 0.75% of Eligible Earnings up to the participant8217s applicable Social Security-covered compensation amount, plus (ii) 1.25% of the participant8217s final Eligible Earnings in ex\n"
     ]
    },
    {
     "name": "stdout",
     "output_type": "stream",
     "text": [
      "ACELRX PHARMACEUTICALS INC\n",
      "all salaries []\n",
      "Cant use ratio\n",
      "Pay Ratio measure in making compensation decisions.29Grants of Plan Based Awards in Fiscal 2017 The following table provides information with regard to each grant of plan-based award made to a named executive officer under any plan during the fiscal year ended December31, 2017.\t\t\t\t\t\t\t\t\t\t\tGrant Date \t\t\t\t\t\t\t\t\t\t\t\t\t\t\t\t\t\t\t\t\t\t\t\t\t\t\t\t\t\t\t\t\t\t\t\t\t\t\t\t\t\t\t\t\tNumber of\t\t\tSecurities\t\t\tUnderlying\t\t\tOptions()(2) \t\t\t\t\t\t\t\t\tExercise\t\t\tor Base\t\t\tPrice of\t\t\tOption\t\t\tAwards\t\t\t($/Sh)(3) \t\t\t\t\t\t\t\t\tGrant Date\t\t\tFair Value\t\t\tof Option\t\t\tAwards($) \t\t\t\t\t\t\t\t\t\t\t\t\t\t\t\t\t\t\t\t\t\t\t\t\t\t\t\t\t\t\tEstimated Future Payouts Under\t\t\tNon-Equity Incentive Plan\t\t\tAwards(1) \t\t\t\t\t\t\t\t\t\t\t\t\t\t\t\t\t\t\t\t\t\t\t\t\t\t\t\t\t\t\t\t\t\t\t\t\t\t\t\t\t\t\t\t\t\t\t\t\tName\t\t\t\t\t\t\t\t\t\t\t\t\t\t\t\t\t\tThreshold($)\t\t\t\t\t\t\t\t\tTarget($) \t\t\t\t\t\t\t\t\tMaximum($) \t\t\t\t\t\t\t\t\t\t\t\t\t\t\t\t\t\t\t\t\t\t\t\t\t\t\t\t\t\t\t\t\t\t\t\t\t\t\t\t\t\t\t\t\t\t\t\t\tVincent J. Angotti\t\t\t\t\t\t\t\t\t\t\t\t\t\t\t\t\t\t\t\t\t\t\t\t\t\t\t\t\t\t\t\t\t\t\t\t\t\t\t\t\t\t\t\t\t\t\t\t\t\t\t\t\t\t\t\t\t\t\t\t\t\t\t\t\t\t\t\t\t\t\t\t\t\t\t\t\t\t\t\t\t\t\t\t\t\t\t\t\t\t\t\t\t\t\t\t\tStock Options\t\t\t\t\t\t\t\t\t\t\t\t3/6/2017\t\t\t\t\t\t\t\t\t\t\t\t\t\t\tmdash\t\t\t\t\t\t\t\t\t\t\t\tmdash\t\t\t\t\t\t\t\t\t\t\t\tmdash\t\t\t\t\t\t\t\t\t\t\t\t800,000\t\t\t\t\t\t\t\t\t\t\t\t3.30\t\t\t\t\t\t\t\t\t\t\t\t1,687,122\t\t\t\t\t\t\t\t\t\t\t\t\tAnnual Bonus Plan\t\t\t\t\t\t\t\t\t\t\t\tmdash\t\t\t\t\t\t\t\t\t\t\t\tmdash\t\t\t\t\t\t\t\t\t\t\t\t271,404\t\t\t\t\t\t\t\t\t\t\t\tmdash\t\t\t\t\t\t\t\t\t\t\t\tmdash\t\t\t\t\t\t\t\t\t\t\t\tmdash\t\t\t\t\t\t\t\t\t\t\t\tmdash\t\t\t\t\t\t\t\t\t\t\t\t\t\t\t\t\t\t\t\t\t\t\t\t\t\t\t\t\t\t\t\t\t\t\t\t\t\t\t\t\t\t\t\t\t\t\t\t\t\t\t\t\t\t\t\t\t\t\t\t\t\t\t\t\t\t\t\t\t\t\t\t\t\t\t\t\t\t\t\t\t\t\t\t\t\t\t\t\t\t\t\t\t\t\t\t\t\t\t\t\t\t\t\tRaffi Asadorian\t\t\t\t\t\t\t\t\t\t\t\t\t\t\t\t\t\t\t\t\t\t\t\t\t\t\t\t\t\t\t\t\t\t\t\t\t\t\t\t\t\t\t\t\t\t\t\t\t\t\t\t\t\t\t\t\t\t\t\t\t\t\t\t\t\t\t\t\t\t\t\t\t\t\t\t\t\t\t\t\t\t\t\t\t\t\t\t\t\t\t\t\t\t\t\t\tStock Options\t\t\t\t\t\t\t\t\t\t\t\t8/16/2017\t\t\t\t\t\t\t\t\t\t\t\t\t\t\tmdash\t\t\t\t\t\t\t\t\t\t\t\tmdash\t\t\t\t\t\t\t\t\t\t\t\tmdash\t\t\t\t\t\t\t\t\t\t\t\t220,000\t\t\t\t\t\t\t\t\t\t\t\t3.00\t\t\t\t\t\t\t\t\t\t\t\t420,087\t\t\t\t\t\t\t\t\t\t\t\t\tAnnual Bonus Plan\t\t\t\t\t\t\t\t\t\t\t\tmdash\t\t\t\t\t\t\t\t\t\t\t\tmdash\t\t\t\t\t\t\t\t\t\t\t\t45,000\t\t\t\t\t\t\t\t\t\t\t\tmdash\t\t\t\t\t\t\t\t\t\t\t\tmdash\t\t\t\t\t\t\t\t\t\t\t\tmdash\t\t\t\t\t\t\t\t\t\t\t\tmdash\t\t\t\t\t\t\t\t\t\t\t\t\t\t\t\t\t\t\t\t\t\t\t\t\t\t\t\t\t\t\t\t\t\t\t\t\t\t\t\t\t\t\t\t\t\t\t\t\t\t\t\t\t\t\t\t\t\t\t\t\t\t\t\t\t\t\t\t\t\t\t\t\t\t\t\t\t\t\t\t\t\t\t\t\t\t\t\t\t\t\t\t\t\t\t\t\t\t\t\t\t\t\t\tPamela P. Palmer, M.D., Ph. D.\t\t\t\t\t\t\t\t\t\t\t\t\t\t\t\t\t\t\t\t\t\t\t\t\t\t\t\t\t\t\t\t\t\t\t\t\t\t\t\t\t\t\t\t\t\t\t\t\t\t\t\t\t\t\t\t\t\t\t\t\t\t\t\t\t\t\t\t\t\t\t\t\t\t\t\t\t\t\t\t\t\t\t\t\t\t\t\t\t\t\t\t\t\t\t\t\tStock Options\t\t\t\t\t\t\t\t\t\t\t\t2/7/2017\t\t\t\t\t\t\t\t\t\t\t\t\t\t\tmdash\t\t\t\t\t\t\t\t\t\t\t\tmdash\t\t\t\t\t\t\t\t\t\t\t\tmdash\t\t\t\t\t\t\t\t\t\t\t\t132,500\t\t\t\t\t\t\t\t\t\t\t\t3.00\t\t\t\t\t\t\t\t\t\t\t\t253,347\t\t\t\t\t\t\t\t\t\t\t\t\tAnnual Bonus Plan\t\t\t\t\t\t\t\t\t\t\t\tmdash\t\t\t\t\t\t\t\t\t\t\t\tmdash\t\t\t\t\t\t\t\t\t\t\t\t187,100\t\t\t\t\t\t\t\t\t\t\t\tmdash\t\t\t\t\t\t\t\t\t\t\t\tmdash\t\t\t\t\t\t\t\t\t\t\t\tmdash\t\t\t\t\t\t\t\t\t\t\t\tmdash\t\t\t\t\t\t\t\t\t\t\t\t\t\t\t\t\t\t\t\t\t\t\t\t\t\t\t\t\t\t\t\t\t\t\t\t\t\t\t\t\t\t\t\t\t\t\t\t\t\t\t\t\t\t\t\t\t\t\t\t\t\t\t\t\t\t\t\t\t\t\t\t\t\t\t\tn\n",
      "ACHILLION PHARMACEUTICALS INC\n",
      "all salaries ['$2,212,218', '$205,705,']\n",
      "ratio 11.0\n",
      "emp_salary 205705.0\n",
      "ceo_salary 2212218.0\n",
      "ACI WORLDWIDE, INC.\n",
      "all salaries ['$6,120,624', '$82,367']\n",
      "ratio 74.0\n",
      "emp_salary 82367.0\n",
      "ceo_salary 6120624.0\n",
      "ACNB CORP\n",
      "all salaries ['$37,073', '$489,022', '$10,000', '$24,400', '$22,000', '$22,000', '$19,000', '$32,429', '$23,425', '$23,425']\n",
      "ratio 2017.0\n",
      "emp_salary -1\n",
      "ceo_salary -1\n",
      "Pay Ratio Disclosure  The SEC requires us to disclose the annual total compensation of Mr.Helt, the principal executive officer as of December31,2017, and our median employee, as well as the ratio of their respective annual total compensation to each other. We are providing the following information for the year ended December31,2017:149 The median employee's annual compensation150$37,073 149 The CEO's annual compensation150$489,022 149 The ratio of the CEO's annual compensation to our median employee's annual compensation15013:1 TheCEO's compensation is approximately 13 times that of the median of the annual total compensation of all employees. Wecompleted the following steps to identify the median of the annual total compensation of all our employees. The Corporation chose December31, 2017 as the date for identifyingthe median employee. We considered our entire employee population consisting of full-time, part-time and temporary employees employed on that date. To find the median of the annual total compensationof our employees, the Corporation used wages from our payroll records, excluding the CEO's wages. We annualized compensation for full-time and part-time employees who were employed onDecember31, 2017, but who did not work the entire year including New Windsor State Bank employees. No full-time equivalent adjustments were made for part-time employees. We calculated totalannual compensation in accordance with the requirements of Item402(c)(2)(x) of RegulationS-K for both the median employee and Mr.Helt however, we annualized Mr.Helt'scurrent base salary. We did not include personal benefits that aggregate less than $10,000 and compensation under non-discriminatory benefit plans in calculating the annual total compensationhowever, we did use matching contributions and profit sharing contributions from the Bank's 401(k) and insurance premiums. We did not rely on any material assumptions, adjustments, or estimates toidentify our median employee or to determine annual total compensation. Equity Compensation  In 2009, the Corporation's shareholders approved the ACNB Corporation 2009 Restricted Stock Plan (the 2009 Restricted Stock Plan) which allowsthe Corporation to grant up to 200,000 restricted shares under the plan. The Compensation Committee may grant restricted stock to employees and directors of the Corporation and ACNB Bank contingent,for example, upon the employee, director, Corporation or ACNB Bank meeting specified goals or the employee or director remaining employed or affiliated with ACNB Bank for a specific period of time.The following table is a summary of the restricted stock grants awarded to the Named Executive Officers during 2017, pursuant to the 2009 Restricted Stock Plan and the ACNB Bank Variable CompensationPlan.     Grant of Plan Based Awards           Named Executive Officer Grant Date Shares() Grant DateFair Value($)  Thomas A. Ritter151151151 James P. HeltJune15, 2017833.4757$24,400 Lynda L. GlassJune15, 2017751.4944$22,000 David W. CathellJune15, 2017751.4944$22,000 Douglas A. SeibelJune15, 2017649.0179$19,000  37 Table of ContentsOnJune15, 2017, the Corporation granted a total of 2,985.4824 restricted shares to the Named Executive Officers employed by ACNB Bank. Subject to earlier forfeiture oraccelerated vesting, the restricted shares were to vest as follows: one-third (1/3) of the restricted shares 100% vested on the grant date, with the next one-third (1/3)of the restricted shares 100% vested as of January1, 2018, and the final one-third (1/3) of the restricted shares 100% vested as of January1, 2019.     Outstanding Equity Awards at Fiscal Year-End        The following table is a summary of the outstanding equity awards at December31, 2017.    Named Executive Officer Number of Sharesthat Have NotVested () Market Value ofShares thatHave Not Vested($)(1)  Thomas A. Ritter151151 James P. Helt1,097.4300$32,429 Lynda L. Glass792.7237$23,425 David W. Cathell792.7237$23,425 Douglas A. Seibel567.5539nbs\n",
      "ACORDA THERAPEUTICS INC\n",
      "all salaries ['$2,016,984', '$183,587,', '$636,540']\n",
      "ratio 11.0\n",
      "emp_salary 183587.0\n",
      "ceo_salary 2016984.0\n",
      "Activision Blizzard, Inc.\n",
      "all salaries ['$93,660', '$28,698,375']\n",
      "ratio 306.0\n",
      "emp_salary 93660.0\n",
      "ceo_salary 28698375.0\n",
      "Acushnet Holdings Corp.\n",
      "all salaries ['$11,909', '$3,989,109']\n",
      "ratio 334.97\n",
      "emp_salary 11909.0\n",
      "ceo_salary 3989109.0\n",
      "ADAMS RESOURCES & ENERGY, INC.\n",
      "all salaries ['$61,430', '$375,000', '$300,000']\n",
      "Cant use ratio\n",
      "Pay Ratio Disclosure RuleIn August 2015, pursuant to a mandate of the Dodd-Frank Wall Street Reform and Consumer Protection Act (the 8220Dodd-Frank Act8221), the SEC adopted a rule requiring annual disclosure of the ratio of the median employee8217s annual total compensation to the total annual compensation of the principal executive officer (8220PEO8221).160 Our PEO is Mr. Pressler.160 The purpose of this disclosure is to provide a measure of the equitability of pay within the organization.160 We believe our compensation philosophy and process yield an equitable result and our ratio is as follows:160Median Employee total annual compensation$61,430Mr. Pressler8217s total annual compensation$375,000Ratio of PEO to Median Employee Compensation6.1:1.0Mr. Pressler became our PEO in September 2017 upon the retirement of our President and Chief Executive Officer.  For purposes of this calculation, we aggregated Mr. Pressler8217s expected annual salary of $300,000 and 2017 bonus amount to arrive at the total PEO annual compensation.    In determining the median employee, a listing was prepared of all employees as of December 31, 2017.160 Employees on leave of absence were excluded from the list and wages and salaries were annualized for those employees that were not employed for the full year of 2017.160 The median amount was selected from the annualized list.160 For simplicity, the value of our 401(k) plan and medical benefits provided was excluded as all employees including the PEO are offered the exact same benefits, and we utilize the Internal Revenue Code safe harbor provision for 401(k) discrimination testing.160 As of December 31, 2017, we employed 575 persons of which 403 are professional truck drivers.Compensation Committee Interlocks and Insider ParticipationNone of the members of the Compensation Committee was an officer or employee of us or any of our subsidiaries, or was formerly an officer of us or any of our subsidiaries or had any relationship requiring disclosure by us during the year ended December 31, 2017.160 None of our executive officers have served as a member of the Compensation Committee (or other board committee performing equivalent functions) of another entity that had an executive officer serving as a member of our Board of Directors or the Compensation Committee.COMPENSATION COMMITTEE REPORTMarch 23, 2018To the Board of Directors:The following report of the Compensation Committee of the Board of Directors shall not be deemed to be 8220soliciting material8221 or to be 8220filed8221 with the Securities and Exchange Commission (8220SEC8221) or subject to the SEC8217s proxy rules, except for the required disclosure in this Proxy Statement, or subject to the liabilities of Section 18 of the Securities Exchange Act of 1934, as amended160 (the 8220Exchange Act8221), except to the extent that we specifically incorporate by reference into any filing we make under the Securities Act of 1933, as amended (the 8220Securities Act8221) or the Exchange Act.The Compensation Committee of the Board of Directors consists of Messrs. Brasseux, Reinauer and Jenner.160 The duties and responsibilities of the Compensation Committee are set forth in a written charter adopted by the Board of Directors and such charter is available on our website at www.adamsresources.com, under Investor Relations 8211 Corporate Governance.160 Each of the members of the Compensation Committee is independent, as defined in Section 803A of the listing standards of the NYSE American Exchange.13We have reviewed and discussed with management the above Compensation Discussion and Analysis (8220CDampA8221) and based on our review and discussions with management, we recommended to the Board of Directors that the CDampA be included in this Proxy Statement and our Annual Report on Form 10-K for the year ended December 31, 2017.Murray E. Brasseux, ChairmanE. C. Reinauer, Jr.Richard C. Jenner14ITEM 2 - APPROVAL OF ADVISORY RESOLUTION ON EXECUTIVE COMPENSATIONUnder the provisions of Section 951 of the Dodd-Frank Act, our shareholders are entitled to vote at the Annual Meeting to approve the compensation of our Named Executive Officers, as disclosed in this Proxy Statement pursuant to Item 402 of Regulation S-K.160 Pursuant to the Dodd-Frank Act, the shareholder vote on executive compensation is an advisory vote only, and it is not binding on us or our Board of Directors.Although the vote is non-binding, the Compensation Committee and the Board of Directors value the opinions of our shareholders and will consider the outcome of the vote when making future compensation decisions.160 As described more fully in the 8220Compensation Discussion and Analysis8221 section of this Proxy Statement, our executive compensation program is designed to provide aggregate compensation opportunities for our Named Executive Officers that are both co\n"
     ]
    },
    {
     "name": "stdout",
     "output_type": "stream",
     "text": [
      "Addus HomeCare Corp\n",
      "all salaries ['$45,000', '$1,500', '$20,000', '$15,000,', '$10,000,', '$7,500', '$10,000,', '$1,500', '$1,000', '$74,989,']\n",
      "ratio 188.0\n",
      "emp_salary -1\n",
      "ceo_salary -1\n",
      "Pay Ratio was 188:1. Each individual146s total annual compensation can be comprised of differentcompensation elements and is dependent on where the individual works.  Please keep in mind that under the SEC146s rules andguidance, there are numerous ways to determine the compensation of a company146s median employee, including the employee population sampled, the elements of   38  pay and benefits used, any assumptions made and the use of statistical sampling. In addition, no two companies have identical employee populations or compensation programs, and pay, benefits andretirement plans differ by country even within the same company. As such, our pay ratio may not be comparable to the pay ratio reported by other companies.  2017 Director Compensation  Consistent with the Company146s independentdirector compensation policy, in 2017, our independent directors received an annual retainer of $45,000 for service on the Company146s Board, $1,500 per in-person scheduled board meeting (whether attendedin person or telephonically) and $750 per telephonic board meeting. The Chairman of the Board received an additional retainer of $20,000.  In addition, in 2017, the chairmen of the Company146s Audit Committee, Compensation Committee, Nominating and Corporate Governance Committee and Government Affairs Committee received an additionalannual retainer of $15,000, $10,000, $7,500 and $10,000, respectively (consistent with 2016, except for the Government Affairs Committee, which was formed in 2017). Directors who served on the Audit Committee received $1,500 per Audit Committeemeeting attended and directors who served on other committees received $1,000 per committee meeting attended. Independent directors were also reimbursed for reasonable expenses incurred in attending Board meetings, committee meetings and shareholdermeetings.  In addition, during 2017, each independent director received an annual grant of restricted shares of theCompany146s common stock valued at approximately $74,989, which was awarded following the Company146s annual meeting of shareholders each year. Each grant of restricted stock to an independent director vests on the first anniversary of thedate of issuance.  The foregoing independent director compensation is subject to review and adjustment on the recommendationof our Nominating and Corporate Governance Committee.  The following information sets forth the compensation paid to ourdirectors, whose compensation is not described above, for the year ended December31, 2017:  Name FeesPaidin Cash($)StockAwards($)(1)Total($) Simon A. Bachleda (2)45,00074,989119,989 Michael Earley (3)80,75074,989155,739 Mark L. First (4)64,50074,989139,489 Steven I. Geringer (5)93,25074,989168,239 Darin J. Gordon (6)69,75074,989144,739 Susan T. Weaver, M.D. (7)56,75074,989131,739 (1)This column discloses the grant date fair value of stock awards calculated in accordance with FASB ASC Topic 718. The assumptions we used in valuing equity incentivesare described under the caption 147Stock Options and Restricted Stock Awards148 in Note 11 to our consolidated financial statements in our Annual Report on Form 10-K. (2)Mr.Bachleda resigned from the Board effective October19, 2017. The cash fees owed to Mr.Bachleda were paid to SAB Management LLC, a limited liabilitycompany owned by Mr.Bachleda and the stock awards granted to Mr.Bachleda were made to him directly as an individual. As of December31, 2017, Mr.Bachleda held 2,024 unvested restricted shares. (3)The cash fees owed to Mr.Earley were paid to Pelican Advisory LLC, a limited liability company owned by Mr.Earley and the stock awards granted toMr.Earley were made to him directly as an individual. As of December31, 2017, Mr.Earley held 2,024 unvested restricted shares.   39 (4)The cash fees owed to Mr.First were paid to an affiliate of the Eos Funds and the stock award granted to Mr.First were made to him directly as anindividual. As of December31, 2017, Mr.First held 2,024 unvested restricted shares.  (5)As of December31, 2017, Mr.Geringer held 2,024 unveste\n",
      "ADTRAN INC\n",
      "all salaries ['$82,417', '$637,364', '$1,223,362', '$2,100,000', '$450,275', '$39,686', '$4,450,686', '$11,159', '$82,417', '$105,000', '$89,997151151151151']\n",
      "ratio 54.0\n",
      "emp_salary 82417.0\n",
      "ceo_salary 4450686.0\n",
      "ADVANCE AUTO PARTS INC\n",
      "all salaries ['$6,127,997', '$18,460']\n",
      "ratio 329.0\n",
      "emp_salary -1\n",
      "ceo_salary -1\n",
      "Pay RatioAs a result of certain regulations adopted under the Dodd-Frank Wall Street Reform and Consumer Protection Act, we are providing the following disclosure of the ratio of our CEO8217s compensation to that of our median employee.Our CEO to median employee pay ratio is calculated in accordance with the guidelines established by the SEC.  We identified our median employee using total 2017 earnings from our payroll for all team members employed with us on October 3, 2017.  We included all team members, except the CEO, in our analysis of the median employee, including part-time, full-time, and seasonal team members.After identifying our median employee, we then calculated annual total compensation in accordance with the same methodology as used to calculate total compensation for our CEO in the Summary Compensation table.Annual Total Compensation for the CEO as described in the Summary Compensation table was $6,127,997 for Fiscal Year 2017 and the median team member compensation was $18,460.  The result of this analysis is a ratio of 329:1.The Compensation Committee continuously reviews the compensation of our CEO and our NEOs and our pay practices for all Team Members to ensure internal equity is appropriate.  A significant portion of our CEO8217s compensation is performance-based and thus the ratio may vary each year consistent with the Company8217s ultimate performance outcomes and how those outcomes connect to our performance-based compensation programs and provide value to our stockholders.Employment AgreementsWe have entered into employment agreements with all NEOs and other selected senior executives.160160The Committee has determined that these agreements are beneficial to us because they contain restrictive covenants relating to confidential information, non-competition and non-solicitation of our employees.  We compete for executive talent, and we believe that providing severance protection plays an important role in attracting and retaining key executives and enabling them to focus on the Company8217s strategic goals.160160The agreements provide for severance payments under certain circumstances, which are discussed in more detail in the 8220Potential Payments Upon Termination of Employment or Change in Control Table8221 on page 39.  The employment agreements with all of our NEOs provide that any incentive compensation granted to the executive by us is subject to our Incentive Compensation Clawback Policy, and none of the severance agreements provides tax gross-ups on any compensation or perquisite.   29Following the initial one-year term, the agreements for Messrs. Greco (effective April 11, 2016), Okray (effective October 31, 2016), and Cushing (effective August 21, 2016) and Ms. Finley (effective January 4, 2015) automatically renew for an additional one-year term unless either the executive or the Company provides notice of non-renewal at least 90 days prior to the end of the then effective term.160 We entered into an employment agreement with Mr. Shepherd effective March 1, 2017, for an initial one-year term.   His agreement provides that after the initial one-year term, the agreement is extended each day for an additional day until we provide at least 90 days' notice of our intention not to extend his agreement.The agreements with Messrs. Greco, Okray, and Cushing and Ms. Finley specify annual base salary and annual performance-based cash target bonus amounts for each executive, calculated as a specified percentage of the executive8217s base salary.  The performance measures160are determined by the Compensation Committee annually and are consistent with the160measures applied to other senior executives.160160Mr. Shepherd8217s agreement does not specify his annual base salary or annual cash target bonus amounts.  If the executive8217s employment is terminated in the event of the executive8217s death, we have agreed to pay to the executive8217s designated beneficiary or estate an amount equal to one year of base salary at the rate then in effect, plus, in the case of Messrs. Greco, Okray, and Cushing and Ms. Finley, an amount equal to the executive8217s target level bonus in effect at the time of the executive's death (or in the case of Mr. Shepherd, an amount equal to the pro rata portion of any bonus that would have been payable with respect to all fiscal quarters completed prior to termination of employment, provided the criteria for such bonus other than executive's continued employment are satisfied).In the event of termination of employment due to disability as defined in the agreements, the executive will receive a lump sum payment amount equal to 30 percent of base salary at the rate then in effect, plus an amount equal to the executive8217s target level annual bonus then in effect (or in the case of Mr. Shepherd, an amount equal to the pro rata portion of any bonus that would have been payable to the executive with \n"
     ]
    },
    {
     "name": "stdout",
     "output_type": "stream",
     "text": [
      "Advanced Disposal Services, Inc.\n",
      "all salaries ['$55,102,', '$3,829,281']\n",
      "ratio 69.0\n",
      "emp_salary 55102.0\n",
      "ceo_salary 3829281.0\n",
      "ADVANCED DRAINAGE SYSTEMS, INC.\n",
      "all salaries ['$4,062,900', '$52,385', '$100,000']\n",
      "ratio 78.0\n",
      "emp_salary 52385.0\n",
      "ceo_salary 4062900.0\n",
      "Advanced Emissions Solutions, Inc.\n",
      "all salaries ['$117,584', '$1,656,921']\n",
      "Cant use ratio\n",
      "Pay RatioAs required by Section 953(b) of the Dodd-Frank Wall Street Reform and Consumer Protection Act of 2010 and Item 402(u) of Regulation S-K, we are providing the following information with respect to our last completed fiscal year (2017). The pay ratio reported below is a reasonable estimate calculated in a manner consistent with Item 402(u) of Regulation S-K.We have estimated the median of the 2017 annual total compensation of our employees, excluding our CEO, to be $117,584. The annual total compensation of our CEO was $1,656,921. The ratio of the annual total compensation of our CEO to the estimated median of the annual total compensation of our employees was 1432to 1.To identify the median employee, as well as to determine the annual total compensation of our median employee and our CEO, we took the following steps:8226We determined our employee population, for purposes of this disclosure, as of October 31, 20178226To identify the median employee from our employee population, we used the same methodology that we used to determine the annual total compensation of the CEO during the ten-month period ending on October 31, 2017 as a consistently applied compensation measure. Because all our employees are located in the United States, we did not make any cost-of-living adjustments8226Once we identified our median employee, we calculated the annual total compensation of the median employee using the same methodology that we used to determine the annual total compensation of the CEO, as reported in the Summary Compensation Table within the Executive Compensation section8226With respect to the annual total compensation of our CEO, we used the amount reported in the \"Total\" column for 2017 in the Summary Compensation Table within the Executive Compensation section. The pay ratio rules provide companies with flexibility to select the methodology and assumptions used to identify the median employee, calculate the median employee's compensation and estimate the pay ratio. As a result, our methodology may differ from those used by other companies, which likely will make it very difficult to compare pay ratios with other companies, including those within our industry.33PROPOSAL THREE32RATIFICATION OF APPOINTMENT OF INDEPENDENT REGISTERED PUBLIC ACCOUNTING FIRM Our Audit Committee32has appointed Moss Adams LLP (\"Moss Adams\") to be the Company8217s independent registered public accounting firm for the fiscal year ending December 31, 2018. Moss Adams has served as the Company8217s independent registered public accounting firm since 2017, including the fiscal year ended December 31, 2017.Stockholder ratification of the Audit Committee8217s selection of Moss Adams as our independent registered public accounting firm as requested in Proposal 3 is not required by our bylaws or otherwise. The Board is submitting this proposal to the stockholders for ratification as a matter of good corporate practice. If the stockholders fail to ratify the selection, the Audit Committee will reconsider whether or not to retain this firm. We anticipate that a representative of Moss Adams will be available to respond to stockholder questions and will have the opportunity to make a statement at that time if the representative desires to do so.Additional information about Audit Fees and Audit Committee Approval of Services can be found under the Independent Registered Public Accounting Firm section of this Proxy Statement.Board RecommendationOur Board recommends a vote \"FOR\"32the ratification of the Audit Committee's appointment of Moss Adams LLP as the company's independent registered public accounting firm for the fiscal year ending December 31, 201834REPORT OF THE AUDIT COMMITTEE32The Audit Committee8217s role and functions are described under the \"Corporate Governance\" section of this Proxy Statement. The Audit Committee held nine meetings in 2017. The Audit Committee has (i)160reviewed and discussed the Company8217s audited financial statements for the year ended December16031, 201732with the Company8217s management (ii)160discussed with the Company8217s current independent registered public accounting firm, Moss Adams, the matters required to be discussed by PCAOB standards regarding communication with audit committees, including the overall scope and plans for their audits and (iii)160received the written disclosures and the letter from Moss Adams required by applicable requirements of the PCAOB regarding communications with the Audit Committee concerning independence and has discussed with Moss Adams such independence. As further discussed under the \"Independent Registered Public Accounting Firm\" section of this Proxy Statement, on November 16, 2017, the Audit Committee approved the engagement of Moss Adams, following its combination on November 16, 2017 with Hein amp Associates, LLP (\"Hein\"), to serve as the Company's independent registered public accounting fir\n",
      "ADVANCED ENERGY INDUSTRIES INC\n",
      "all salaries ['$35,081', '$5,539,991']\n",
      "ratio 2017.0\n",
      "emp_salary -1\n",
      "ceo_salary -1\n",
      "Pay Ratio As required by Securities and Exchange Commission rules, we are providing the following information about the ratio of the median annual total compensation of our employees and the annual total compensation of Mr. Wasserman, our CEO. For the year ended December 31, 2017:8226the median of the annual total compensation of all employees of our Company was reasonably estimated to be $35,081.8226the annual total compensation of Mr. Wasserman was $5,539,991.8226Based on this information, the ratio of the annual total compensation of our chief executive officer to the median of the annual total compensation of all other employees is estimated to be 158 to 1.Excluding our CEO, we identified the median employee by examining the1602017160total target compensation, which includes annual base salary, cash allowances, target cash incentives and target equity, for all individuals who we employed on December 31,1602017, the last day of our payroll year. We included all our employees, whether full-time, part-time, or seasonal, including any interns, temporary employees, or individuals that we employ through an agency. We annualized the total target compensation for any individual that works full-time, but we hired after January 1, 2017. For any employee that we paid in currency other than U.S. Dollars, we then applied the applicable foreign currency exchange rate as of December 31, 2017 to convert such employee8217s total target compensation into U.S. Dollars. Once we identified our median employee, we added together all of the elements of such employee8217s compensation for 2017 in the same way that we calculate the annual total compensation of our named executive officers in the Summary Compensation Table. To calculate our ratio, we divided Mr. Wasserman8217s annual total compensation, as reported in the Summary Compensation Table above, by the median employee8217s annual total compensation.Equity Compensation Plan InformationThe Company currently maintains two equity compensation plans: the Company8217s 2017 Omnibus Incentive Plan, as amended, and the Employee Stock Purchase Plan (8220ESPP8221). Both plans were approved by the Company8217s stockholders. The following table sets forth the number of shares of common stock subject to outstanding options and other rights, the weighted-average exercise price of outstanding options, and the number of shares remaining available for future award grants as of January1601, 2018 in each of the equity compensation plans.27Plan CategoryNumber of securities to be issued upon exercise of outstanding options, warrants and rights()(a)160Weighted average exercise price of outstanding options, warrants and rights($)(b)160Number of securities remaining available for issuance under equity compensation plans (excluding securities reflected in column (a))()(c)Equity compensation plans approved by security holders316,922160(1)18.971604,488,326Equity compensation plans not approved by security holders821216082121608212Total316,92216018.971604,488,326160160160160160160(1) Includes 316,922 shares subject to stock optionsManagement Executive officers of the Company are appointed by the Board, and serve for a term of one year and until their successors have been appointed and qualified or until their earlier resignation or removal by the Board. The following table sets forth names and ages of our current executive officers of the Company and their respective positions with the Company as of the date of this proxy statement:Name160Age160Position160Principal Occupation and Business ExperienceYuval Wasserman16063160President, Chief Executive Officer and Director 160A summary of Mr. Wasserman8217s business experience is included in Proposal No. 1 on page 8Thomas O. McGimpsey16056160Executive160Vice160President, Interim Chief Financial Officer amp General Counsel160Mr. McGimpsey joined the Company in April 2009 as Vice President and General Counsel and was promoted to Executive Vice President of Corporate Development (MampA) and General Counsel in August 2011, and held the corporate development executive position until mid-2015. In January 2018, Mr. McGimpsey was appointed as the Interim Chief Financial Officer and now has the combined role of Executive Vice President, Interim Chief Financial Officer amp General Counsel. Mr. McGimpsey managed Advanced Energy8217s IT Department from 2010 to 2013. Prior to joining the Company, from February 2008 to April 2009, Mr. McGimpsey held the position of Vice President of Operations at First Data Corporation. During 2007, Mr. McGimpsey was a consultant and legal advisor to various companies. From July 2000 to January 2007, Mr. McGimpsey held various positions with McDATA Corporation such as Executive Vice President of Business Development amp Chief Legal Officer, Senior Vice President amp General Counsel and Vi\n"
     ]
    },
    {
     "name": "stdout",
     "output_type": "stream",
     "text": [
      "ADVANCED MICRO DEVICES INC\n",
      "all salaries ['$89,909', '$10,894,821']\n",
      "ratio 121.0\n",
      "emp_salary 89909.0\n",
      "ceo_salary 10894821.0\n",
      "AdvanSix Inc.\n",
      "all salaries ['$98,422', '$3,864,058']\n",
      "ratio 39.0\n",
      "emp_salary 98422.0\n",
      "ceo_salary 3864058.0\n"
     ]
    }
   ],
   "source": [
    "for i in range(1, num_filings):\n",
    "    row = table_of_filings[i]\n",
    "    cols = row.findAll(\"td\")\n",
    "    # Get Company Name and Filing Date\n",
    "    comp_name = cols[1].get_text()\n",
    "    filing_date = datetime.datetime.strptime(cols[4].get_text(), \"%m/%d/%Y\").date()\n",
    "    # Only grab those filings that have been posted since we last pulled\n",
    "    if filing_date >= last_time_run:\n",
    "        txt_url = cols[2].find()['href']\n",
    "        comp_def14a_html = requests.get('https://www.sec.gov/%s' %txt_url).text\n",
    "        #form_soup = bs4.BeautifulSoup(comp_def14a_html, 'html.parser')\n",
    "        #comp_def14a = form_soup.get_text()\n",
    "        comp_def14a = re.sub('<[^<]+?>', '', comp_def14a_html)\n",
    "        # If filing doesn't contain median we are not going to find the salary\n",
    "        if comp_def14a.find(\"median\") == -1:\n",
    "            pass\n",
    "            # Write to out file\n",
    "            #with open('comps_no_median_salary.csv','a', newline='') as nosal_file:\n",
    "            #    no_sal_writer = csv.writer(nosal_file, delimiter=',')\n",
    "            #    no_sal_writer.writerow([comp_name, filing_date.year])\n",
    "            # Typically reported in section called:\n",
    "                # CEO Pay Ratio or Pay Ratio Disclosure\n",
    "        else:\n",
    "            pay_ratio = comp_def14a.rfind(\"Pay Ratio\")\n",
    "            pay_ratio_caps = comp_def14a.rfind(\"PAY RATIO\")\n",
    "            # Fairly confident these won't have info, but come back to it\n",
    "            if pay_ratio == -1 and pay_ratio_caps == -1:\n",
    "                pass\n",
    "            # Need to get the section with pay ratio and find median salary\n",
    "            # May need to build classifier but pretty sure I can retrieve it\n",
    "            else:\n",
    "                print(comp_name)\n",
    "                ratio_sec = max(pay_ratio, pay_ratio_caps)\n",
    "                pay_section = comp_def14a[ratio_sec : ratio_sec + 5000]\n",
    "                pay_section = pay_section.strip(\"\\n\")\n",
    "                symbs = [\"&\", \"#\", \"&nbsp;\", \"nbsp\", \"\\n\", ';']\n",
    "                for s in symbs:\n",
    "                    pay_section = pay_section.replace(s, \"\")\n",
    "                    \n",
    "                all_salaries = re.findall('\\$\\d{1,3},\\d{3,3},?\\d*', pay_section) \n",
    "                print('all salaries', all_salaries)\n",
    "                ratio_colon = re.findall('\\d{2,4}:\\d{1}', pay_section)\n",
    "                ratio_to = re.findall('\\d+\\.?\\d*\\sto\\s\\d', pay_section)   \n",
    "                if ratio_colon != [] or ratio_to != []:\n",
    "                    if ratio_colon != []:\n",
    "                        ratio_str = ratio_colon[0]\n",
    "                        ceo_mult = float(ratio_str[0:ratio_str.find(':')])\n",
    "                    elif ratio_to != []:\n",
    "                        ratio_str = ratio_to[0]\n",
    "                        ceo_mult = float(ratio_str[0:ratio_str.find(' to ')])\n",
    "                    \n",
    "                    print('ratio', ceo_mult)\n",
    "                    emp_salary = -1\n",
    "                    ceo_salary = -1\n",
    "                    num_salaries = [float(num.replace('$', '').replace(',', '')) for num in all_salaries]\n",
    "                    num_salaries.sort()\n",
    "                    for i in range(len(num_salaries) - 1):\n",
    "                        for j in range(i + 1, len(num_salaries)):\n",
    "                            lower_sal = num_salaries[i]\n",
    "                            higher_sal = num_salaries[j]\n",
    "                            if abs(higher_sal / lower_sal - ceo_mult) < 1:\n",
    "                                ceo_salary = higher_sal\n",
    "                                emp_salary = lower_sal\n",
    "                    print('emp_salary', emp_salary)\n",
    "                    print('ceo_salary', ceo_salary)\n",
    "                    if emp_salary == -1 and ceo_salary == -1:\n",
    "                        print(pay_section)\n",
    "                    \n",
    "                else:\n",
    "                    print('Cant use ratio') \n",
    "                    print(pay_section)\n",
    "\n",
    "                #six_figures = re.findall('\\$\\d{1,3},\\d{3,3}', pay_section)\n",
    "                #nine_figures = re.findall('\\$\\d{1,3},\\d{3,3},\\d{3,3}?', pay_section)\n",
    "                #for sal in six_figures:\n",
    "                #    for nine_sal in nine_figures:\n",
    "                #        if sal in nine_sal:\n",
    "                #            six_figures.remove(sal)\n",
    "                #            break                \n",
    "                #if len(six_figures) == 1:\n",
    "                #    med_emp_salary = six_figures[0]\n",
    "                #else:\n",
    "                #    print('pass')\n",
    "                    #emp_ind = (pay_section.find('annual total compensation') + pay_section.find('employees')) / 2\n",
    "                    #print('Employee Sentence position', emp_ind)\n",
    "                    #dist_to_ind = 10000\n",
    "                    #winning_index = -1\n",
    "                    #for i, sal in enumerate(six_figures):\n",
    "                    #    dist = abs(pay_section.find(sal)- emp_ind)\n",
    "                    #    if dist < dist_to_ind:\n",
    "                    #        dist_to_ind = dist\n",
    "                    #        winning_index = i\n",
    "                    #med_emp_salary = six_figures[winning_index]\n",
    "                #print('Median Employee Salary', med_emp_salary)\n",
    "                \n",
    "                \n",
    "                if len(nine_figures) == 1:\n",
    "                    ceo_salary = nine_figures[0]\n",
    "                else:\n",
    "                    pass"
   ]
  },
  {
   "cell_type": "code",
   "execution_count": 9,
   "metadata": {},
   "outputs": [
    {
     "ename": "AttributeError",
     "evalue": "'str' object has no attribute 'text'",
     "output_type": "error",
     "traceback": [
      "\u001b[0;31m---------------------------------------------------------------------------\u001b[0m",
      "\u001b[0;31mAttributeError\u001b[0m                            Traceback (most recent call last)",
      "\u001b[0;32m<ipython-input-9-410664f3d92a>\u001b[0m in \u001b[0;36m<module>\u001b[0;34m()\u001b[0m\n\u001b[0;32m----> 1\u001b[0;31m \u001b[0mhas_median\u001b[0m \u001b[0;34m=\u001b[0m \u001b[0mcomp_def14a\u001b[0m\u001b[0;34m.\u001b[0m\u001b[0mtext\u001b[0m\u001b[0;34m.\u001b[0m\u001b[0mfind\u001b[0m\u001b[0;34m(\u001b[0m\u001b[0;34m\"median\"\u001b[0m\u001b[0;34m)\u001b[0m\u001b[0;34m\u001b[0m\u001b[0m\n\u001b[0m\u001b[1;32m      2\u001b[0m \u001b[0mprint\u001b[0m\u001b[0;34m(\u001b[0m\u001b[0mhas_median\u001b[0m\u001b[0;34m)\u001b[0m\u001b[0;34m\u001b[0m\u001b[0m\n",
      "\u001b[0;31mAttributeError\u001b[0m: 'str' object has no attribute 'text'"
     ]
    }
   ],
   "source": [
    "has_median = comp_def14a.text.find(\"median\")\n",
    "print(has_median)"
   ]
  },
  {
   "cell_type": "code",
   "execution_count": null,
   "metadata": {
    "collapsed": true
   },
   "outputs": [],
   "source": [
    "if has_median == -1:\n",
    "    comps_wo_med.append(comp_name)\n",
    "else:\n",
    "    # Look for Pay Ratio section\n",
    "    "
   ]
  },
  {
   "cell_type": "code",
   "execution_count": 70,
   "metadata": {
    "collapsed": true
   },
   "outputs": [],
   "source": [
    "test_that_has = requests.get('https://www.sec.gov/Archives/edgar/data/1551152/000104746918001843/0001047469-18-001843.txt')"
   ]
  },
  {
   "cell_type": "code",
   "execution_count": 74,
   "metadata": {
    "collapsed": true
   },
   "outputs": [],
   "source": [
    "section_start = test_that_has.text.find(\"Required Pay Ratio\")"
   ]
  },
  {
   "cell_type": "code",
   "execution_count": 75,
   "metadata": {
    "collapsed": true
   },
   "outputs": [],
   "source": [
    "ratio_paragraph = test_that_has.text[section_start:section_start + 1000]"
   ]
  },
  {
   "cell_type": "code",
   "execution_count": 76,
   "metadata": {},
   "outputs": [
    {
     "name": "stdout",
     "output_type": "stream",
     "text": [
      "Required Pay Ratio Disclosure    <BR>    </I></B></FONT></P>\n",
      "\n",
      "<P style=\"font-family:arial;\"><FONT SIZE=2>&nbsp;&nbsp;&nbsp;&nbsp;&nbsp;&nbsp;&nbsp;&nbsp;&nbsp;&nbsp;&nbsp;&nbsp;&nbsp;&nbsp;As required by Section&nbsp;953(b) of the Dodd-Frank Wall Street Reform and Consumer Protection Act and Item&nbsp;402(u) of\n",
      "Regulation&nbsp;S-K, we are providing the following information about the relationship of the annual total compensation of our employees and the annual total compensation of our CEO, Richard\n",
      "Gonzalez. The pay ratio included in this information is a reasonable estimate calculated in a manner consistent with Regulation&nbsp;S-K Item&nbsp;402(u). The ratio of Mr.&nbsp;Gonzalez's annual\n",
      "total compensation for 2017, as reported in the Summary Compensation Table in this proxy statement, to the median employee annual total compensation determined on the same basis was 144:1. For 2017,\n",
      "the annual total compensation of our median employee (other than Mr.&nbsp;Gonzalez) was $157,347. To i\n"
     ]
    }
   ],
   "source": [
    "print(ratio_paragraph)"
   ]
  },
  {
   "cell_type": "code",
   "execution_count": 91,
   "metadata": {
    "collapsed": true
   },
   "outputs": [],
   "source": [
    "par_lst = ratio_paragraph.split('. ')"
   ]
  },
  {
   "cell_type": "code",
   "execution_count": 92,
   "metadata": {},
   "outputs": [
    {
     "name": "stdout",
     "output_type": "stream",
     "text": [
      "['Required Pay Ratio Disclosure    <BR>    </I></B></FONT></P>\\n\\n<P style=\"font-family:arial;\"><FONT SIZE=2>&nbsp;&nbsp;&nbsp;&nbsp;&nbsp;&nbsp;&nbsp;&nbsp;&nbsp;&nbsp;&nbsp;&nbsp;&nbsp;&nbsp;As required by Section&nbsp;953(b) of the Dodd-Frank Wall Street Reform and Consumer Protection Act and Item&nbsp;402(u) of\\nRegulation&nbsp;S-K, we are providing the following information about the relationship of the annual total compensation of our employees and the annual total compensation of our CEO, Richard\\nGonzalez', 'The pay ratio included in this information is a reasonable estimate calculated in a manner consistent with Regulation&nbsp;S-K Item&nbsp;402(u)', \"The ratio of Mr.&nbsp;Gonzalez's annual\\ntotal compensation for 2017, as reported in the Summary Compensation Table in this proxy statement, to the median employee annual total compensation determined on the same basis was 144:1\", 'For 2017,\\nthe annual total compensation of our median employee (other than Mr.&nbsp;Gonzalez) was $157,347', 'To i']\n"
     ]
    }
   ],
   "source": [
    "print(par_lst)"
   ]
  },
  {
   "cell_type": "code",
   "execution_count": 116,
   "metadata": {},
   "outputs": [
    {
     "name": "stdout",
     "output_type": "stream",
     "text": [
      "$157,347\n"
     ]
    }
   ],
   "source": [
    "for sentence in par_lst:\n",
    "    if sentence.find(\"median employee\") != -1 and sentence.find(\"$\") != -1:\n",
    "        #med_salary = re.search('\\$[0-9]+', sentence)\n",
    "        med_salary = re.search('\\$\\d+,\\d+\\d+?', sentence)\n",
    "        print(med_salary.group())"
   ]
  },
  {
   "cell_type": "code",
   "execution_count": 120,
   "metadata": {
    "collapsed": true
   },
   "outputs": [],
   "source": [
    "comps_w_med.loc[0] = ['AbbVie', med_salary.group()]\n"
   ]
  },
  {
   "cell_type": "code",
   "execution_count": 121,
   "metadata": {},
   "outputs": [
    {
     "data": {
      "text/html": [
       "<div>\n",
       "<style>\n",
       "    .dataframe thead tr:only-child th {\n",
       "        text-align: right;\n",
       "    }\n",
       "\n",
       "    .dataframe thead th {\n",
       "        text-align: left;\n",
       "    }\n",
       "\n",
       "    .dataframe tbody tr th {\n",
       "        vertical-align: top;\n",
       "    }\n",
       "</style>\n",
       "<table border=\"1\" class=\"dataframe\">\n",
       "  <thead>\n",
       "    <tr style=\"text-align: right;\">\n",
       "      <th></th>\n",
       "      <th>company</th>\n",
       "      <th>med_emp_salary</th>\n",
       "    </tr>\n",
       "  </thead>\n",
       "  <tbody>\n",
       "    <tr>\n",
       "      <th>0</th>\n",
       "      <td>AbbVie</td>\n",
       "      <td>$157,347</td>\n",
       "    </tr>\n",
       "  </tbody>\n",
       "</table>\n",
       "</div>"
      ],
      "text/plain": [
       "  company med_emp_salary\n",
       "0  AbbVie       $157,347"
      ]
     },
     "execution_count": 121,
     "metadata": {},
     "output_type": "execute_result"
    }
   ],
   "source": [
    "comps_w_med.head()"
   ]
  }
 ],
 "metadata": {
  "kernelspec": {
   "display_name": "Python 3",
   "language": "python",
   "name": "python3"
  },
  "language_info": {
   "codemirror_mode": {
    "name": "ipython",
    "version": 3
   },
   "file_extension": ".py",
   "mimetype": "text/x-python",
   "name": "python",
   "nbconvert_exporter": "python",
   "pygments_lexer": "ipython3",
   "version": "3.6.5"
  }
 },
 "nbformat": 4,
 "nbformat_minor": 2
}
