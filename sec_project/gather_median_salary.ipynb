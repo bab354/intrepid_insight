{
 "cells": [
  {
   "cell_type": "code",
   "execution_count": 1,
   "metadata": {
    "collapsed": true
   },
   "outputs": [],
   "source": [
    "import requests\n",
    "import os\n",
    "import bs4\n",
    "import re\n",
    "import datetime\n",
    "import csv"
   ]
  },
  {
   "cell_type": "markdown",
   "metadata": {},
   "source": [
    "I am setting up this script to only pull filings posted since last run "
   ]
  },
  {
   "cell_type": "code",
   "execution_count": 2,
   "metadata": {
    "collapsed": true
   },
   "outputs": [],
   "source": [
    "last_time_run = datetime.datetime.strptime('01/01/2018', \"%m/%d/%Y\").date()"
   ]
  },
  {
   "cell_type": "code",
   "execution_count": 3,
   "metadata": {
    "collapsed": true
   },
   "outputs": [],
   "source": [
    "form = 'DEF 14A'\n",
    "base_url = \"https://www.sec.gov/cgi-bin/srch-edgar\""
   ]
  },
  {
   "cell_type": "code",
   "execution_count": 4,
   "metadata": {
    "collapsed": true
   },
   "outputs": [],
   "source": [
    "url = \"%s?text=%s&first=2018&last=2018\" %(base_url, form)\n",
    "list_of_forms = requests.get(url)\n",
    "soup = bs4.BeautifulSoup(list_of_forms.text, 'html.parser')"
   ]
  },
  {
   "cell_type": "code",
   "execution_count": 49,
   "metadata": {},
   "outputs": [],
   "source": [
    "table_of_filings = (soup.findAll(\"table\")[4]).findAll(\"tr\")\n",
    "num_filings = len(table_of_filings)"
   ]
  },
  {
   "cell_type": "markdown",
   "metadata": {},
   "source": [
    "Loop over all filings on first page"
   ]
  },
  {
   "cell_type": "code",
   "execution_count": 86,
   "metadata": {
    "scrolled": false
   },
   "outputs": [
    {
     "name": "stdout",
     "output_type": "stream",
     "text": [
      "1ST CONSTITUTION BANCORP\n",
      "['$53,278.160', '$1,487,675,', '$1,000,000', '$1']\n",
      "()\n",
      "1ST SOURCE CORP\n",
      "['(A)$1,855,632Median', 'Murphy)(2)160(B)$45,286Ratio', 'Egidi$62,500160$62,500160$', '82128212$']\n",
      "()\n",
      "22nd Century Group, Inc.\n",
      "['$711,375', '$36,608.', '($/Sh)', 'Awards($)(2)', '$1.39', '$345,987', '$2.12', '$1,903,500', '$1.39', '$128,836', '$1.39', '$128,836', '$1.39', '$64,418(1)Options', '($)', '($)', '$0.69', '$-', '$-', '$0.96']\n",
      "()\n",
      "2U, Inc.\n",
      "['$60,703', 'was$3,389,499']\n",
      "()\n",
      "3D SYSTEMS CORP\n",
      "['$1,933,108', '$55,683.']\n",
      "()\n",
      "3M CO\n",
      "['$20,494,285', '$63,338']\n",
      "()\n",
      "A. H. Belo Corp\n",
      "['compensation$54,142', 'compensation$2,053,650', '$117,000.', '$10,000', '$20,000', 'Cash($)StockAwards($)', 'AllOtherCompensation($)', 'Total($)(a)(b)nb']\n",
      "()\n",
      "AAON INC\n",
      "['$41,582', '$2,027,295.Based', '$41,582.', '($)Chair', '($)Audit', '($)Compensation', '($)Governance', '($)Total', '($)160160160160160160160Jack', 'inCash($)160Restricted160Stock', 'Awards(1)($)160Stock', 'Options($)160All', 'OtherComp.($)160Total($)160160160160160160160160160160Angela']\n",
      "()\n",
      "AARON'S INC\n",
      "['$31,512', '$7,019,209']\n",
      "()\n",
      "ABBOTT LABORATORIES\n",
      "['($12,597)', '$75,679,', 'fees:(1)$26,863,000$14,545,000', 'Total$33,219,000$18,191,000']\n",
      "()\n",
      "AbbVie Inc.\n",
      "['$157,347.', 'ofOptionAwards($/Sh)ClosingMarketPrice', 'OptionAwardsNameGrantDateTarget($)Maximum($)', '$4,806,781(4)', '$61.368203', '$61.488203']\n",
      "()\n",
      "ABERCROMBIE & FITCH CO /DE/\n",
      "['$2,991.', '$10,262,749.', '$3,287,847,', '$3,287,847.', 'NameGrantDateThreshold($)Target($)Maximum($)Threshold()Target()Maximum()', 'HorowitzFiscal2017$0$1,800,000$3,600,0003/21/2017185,915(4)$9.49$1,764,3333/21/2017nb']\n",
      "()\n",
      "ABRAXAS PETROLEUM CORP\n",
      "['Salary$452,333$91,834', '$1,099,937$94,454', '$8,846', '$304,308,', '$2,620', '$9,450', '$3,000', '$1,454,166', '$452,333.']\n",
      "()\n",
      "ACACIA RESEARCH CORP\n",
      "['OptionAwards($160/160Sh)160Grant', '($)', 'DateThreshold($)(4)Target($)(4)Maximum($)(4)160Threshold()Target()Maximum()160160160160160160160160160160160160160160160160160160160160160160160160160160Robert', 'Jr.1603/15/2017821282128212160821282128212160821216096,1531605.40160$223,5851601603/15/20178212821282121608212821282121608212160113,0321606.75160$222,6501601602/16/2017821282128212160821282128212160821216082121608212160$8212160160160160160160160160160160160160160160160160160160Clayton', 'Haynes1603/15/2017821282128212160821282128212160821216096,1531605.40160$223,5851601603/15/20178212821282121608212821282121608212160113,0321606.75160$222,6501601602/16/2017821282128212160821282128212160821216082121608212160$8212160160160160160160160160160160160160160160160160160160Edward', 'Treska1603/15/2017821282128212160821282128212160821216096,1531605.40160$223,5851601603/15/20178212821282121608212821282121608212160113,0321606.75160$222,6501601602/16/2017821282128212160821282128212160821216082121608212160$8212Marvin', 'Key(3)160160821282128212160821282128212160821216082121608212160$8212____________________(1)For']\n",
      "()\n",
      "Acadia Healthcare Company, Inc.\n",
      "['$25,830', '$8,633,100.', 'Bissell$124,000$159,985$283,985', '($42.64).']\n",
      "()\n",
      "ACADIA PHARMACEUTICALS INC\n",
      "['$15,158,146,', '$283,058,', 'Retainer$50,000', 'Chair$30,000', 'Chair$20,000', '(non-Chair)$10,000', 'Chair$20,000', 'Member(non-Chair)$10,000', 'Chair$10,000', 'Member(non-Chair)$5,000']\n",
      "()\n",
      "ACADIA REALTY TRUST\n",
      "['$4,514,163', '$104,500.', '$145,000,', '$65,000', '$80,000', '$12,500,', '$20,000.', '$100,000.', '($)160Stock', '($)', '($)160Non-Equity', '($)160Change', '($)160All', '($)', '($)160160160160160160160160160160160160160160160Lee']\n",
      "()\n",
      "Accelerate Diagnostics, Inc\n",
      "['$164,738', '$375,000.Based', '$73,438.4.With', '$91,300.5.With', '$375,000,', '($/share)', '($)']\n",
      "()\n",
      "ACCELERON PHARMA INC\n",
      "['$1,322,314,', '$158,210,', 'members$40,000Additional', 'Directors$35,000Audit', 'Committee:160Chair$20,000Non-Chair', 'members$10,000Compensation', 'Committee:160Chair$15,000Non-Chair', 'members$7,500Nominating', 'Committee:160Chair$10,000Non-Chair', 'members$5,000Under']\n",
      "()\n",
      "ACCESS NATIONAL CORP\n",
      "['$68,234', '$692,471', '$36,000', '$12,000', '$48,000', '$192,000']\n",
      "()\n",
      "ACCO BRANDS Corp\n",
      "['(2)($)160PaymentsDuring', 'Year($)Boris', '$1.3444', '$0.2861.ACCO']\n",
      "()\n",
      "ACELRX PHARMACEUTICALS INC\n",
      "['($/Sh)(3)', 'Awards($)', 'Threshold($)', 'Target($)', 'Maximum($)']\n"
     ]
    },
    {
     "ename": "AttributeError",
     "evalue": "'NoneType' object has no attribute 'groups'",
     "output_type": "error",
     "traceback": [
      "\u001b[1;31m---------------------------------------------------------------------------\u001b[0m",
      "\u001b[1;31mAttributeError\u001b[0m                            Traceback (most recent call last)",
      "\u001b[1;32m<ipython-input-86-b384a573c786>\u001b[0m in \u001b[0;36m<module>\u001b[1;34m()\u001b[0m\n\u001b[0;32m     41\u001b[0m                 \u001b[0mprint\u001b[0m\u001b[1;33m(\u001b[0m\u001b[0mdollar_signs\u001b[0m\u001b[1;33m)\u001b[0m\u001b[1;33m\u001b[0m\u001b[0m\n\u001b[0;32m     42\u001b[0m                 print(re.search( \"[\\$]{1}[\\d,]+\\.?\\d{0,2}\", \n\u001b[1;32m---> 43\u001b[1;33m                                 pay_section).groups())\n\u001b[0m\u001b[0;32m     44\u001b[0m \u001b[1;33m\u001b[0m\u001b[0m\n\u001b[0;32m     45\u001b[0m                 \u001b[1;32mif\u001b[0m \u001b[0mlen\u001b[0m\u001b[1;33m(\u001b[0m\u001b[0mdollar_signs\u001b[0m\u001b[1;33m)\u001b[0m \u001b[1;33m==\u001b[0m \u001b[1;36m0\u001b[0m\u001b[1;33m:\u001b[0m\u001b[1;33m\u001b[0m\u001b[0m\n",
      "\u001b[1;31mAttributeError\u001b[0m: 'NoneType' object has no attribute 'groups'"
     ]
    }
   ],
   "source": [
    "for i in range(1, num_filings):\n",
    "    row = table_of_filings[i]\n",
    "    cols = row.findAll(\"td\")\n",
    "    # Get Company Name and Filing Date\n",
    "    comp_name = cols[1].get_text()\n",
    "    filing_date = datetime.datetime.strptime(cols[4].get_text(), \"%m/%d/%Y\").date()\n",
    "    # Only grab those filings that have been posted since we last pulled\n",
    "    if filing_date >= last_time_run:\n",
    "        txt_url = cols[2].find()['href']\n",
    "        comp_def14a_html = requests.get('https://www.sec.gov/%s' %txt_url).text\n",
    "        #form_soup = bs4.BeautifulSoup(comp_def14a_html, 'html.parser')\n",
    "        #comp_def14a = form_soup.get_text()\n",
    "        comp_def14a = re.sub('<[^<]+?>', '', comp_def14a_html)\n",
    "        # If filing doesn't contain median we are not going to find the salary\n",
    "        if comp_def14a.find(\"median\") == -1:\n",
    "            pass\n",
    "            # Write to out file\n",
    "            #with open('comps_no_median_salary.csv','a', newline='') as nosal_file:\n",
    "            #    no_sal_writer = csv.writer(nosal_file, delimiter=',')\n",
    "            #    no_sal_writer.writerow([comp_name, filing_date.year])\n",
    "            # Typically reported in section called:\n",
    "                # CEO Pay Ratio or Pay Ratio Disclosure\n",
    "        else:\n",
    "            pay_ratio = comp_def14a.rfind(\"Pay Ratio\")\n",
    "            pay_ratio_caps = comp_def14a.rfind(\"PAY RATIO\")\n",
    "            # Fairly confident these won't have info, but come back to it\n",
    "            if pay_ratio == -1 and pay_ratio_caps == -1:\n",
    "                pass\n",
    "            # Need to get the section with pay ratio and find median salary\n",
    "            # May need to build classifier but pretty sure I can retrieve it\n",
    "            else:\n",
    "                ratio_sec = max(pay_ratio, pay_ratio_caps)\n",
    "                pay_section = comp_def14a[ratio_sec : ratio_sec + 5000]\n",
    "                pay_section = pay_section.strip(\"\\n\")\n",
    "                symbs = [\"&\", \"#\", \"&nbsp;\", \"nbsp\", \"\\n\", ';']\n",
    "                for s in symbs:\n",
    "                    pay_section = pay_section.replace(s, \"\")\n",
    "                pay_section = pay_section[0: 5000]\n",
    "                dollar_signs = [word for word in pay_section.split() if \"$\" in word]\n",
    "                print(comp_name)\n",
    "                print(dollar_signs)\n",
    "                print(re.search( \"[\\$]{1}[\\d,]+\\.?\\d{0,2}\", \n",
    "                                pay_section).groups())\n",
    "\n",
    "                if len(dollar_signs) == 0:\n",
    "                    print(pay_section)\n",
    "                \n",
    "        "
   ]
  },
  {
   "cell_type": "code",
   "execution_count": 62,
   "metadata": {},
   "outputs": [
    {
     "name": "stdout",
     "output_type": "stream",
     "text": [
      "-1\n"
     ]
    }
   ],
   "source": [
    "has_median = comp_def14a.text.find(\"median\")\n",
    "print(has_median)"
   ]
  },
  {
   "cell_type": "code",
   "execution_count": null,
   "metadata": {
    "collapsed": true
   },
   "outputs": [],
   "source": [
    "if has_median == -1:\n",
    "    comps_wo_med.append(comp_name)\n",
    "else:\n",
    "    # Look for Pay Ratio section\n",
    "    "
   ]
  },
  {
   "cell_type": "code",
   "execution_count": 70,
   "metadata": {
    "collapsed": true
   },
   "outputs": [],
   "source": [
    "test_that_has = requests.get('https://www.sec.gov/Archives/edgar/data/1551152/000104746918001843/0001047469-18-001843.txt')"
   ]
  },
  {
   "cell_type": "code",
   "execution_count": 74,
   "metadata": {
    "collapsed": true
   },
   "outputs": [],
   "source": [
    "section_start = test_that_has.text.find(\"Required Pay Ratio\")"
   ]
  },
  {
   "cell_type": "code",
   "execution_count": 75,
   "metadata": {
    "collapsed": true
   },
   "outputs": [],
   "source": [
    "ratio_paragraph = test_that_has.text[section_start:section_start + 1000]"
   ]
  },
  {
   "cell_type": "code",
   "execution_count": 76,
   "metadata": {},
   "outputs": [
    {
     "name": "stdout",
     "output_type": "stream",
     "text": [
      "Required Pay Ratio Disclosure    <BR>    </I></B></FONT></P>\n",
      "\n",
      "<P style=\"font-family:arial;\"><FONT SIZE=2>&nbsp;&nbsp;&nbsp;&nbsp;&nbsp;&nbsp;&nbsp;&nbsp;&nbsp;&nbsp;&nbsp;&nbsp;&nbsp;&nbsp;As required by Section&nbsp;953(b) of the Dodd-Frank Wall Street Reform and Consumer Protection Act and Item&nbsp;402(u) of\n",
      "Regulation&nbsp;S-K, we are providing the following information about the relationship of the annual total compensation of our employees and the annual total compensation of our CEO, Richard\n",
      "Gonzalez. The pay ratio included in this information is a reasonable estimate calculated in a manner consistent with Regulation&nbsp;S-K Item&nbsp;402(u). The ratio of Mr.&nbsp;Gonzalez's annual\n",
      "total compensation for 2017, as reported in the Summary Compensation Table in this proxy statement, to the median employee annual total compensation determined on the same basis was 144:1. For 2017,\n",
      "the annual total compensation of our median employee (other than Mr.&nbsp;Gonzalez) was $157,347. To i\n"
     ]
    }
   ],
   "source": [
    "print(ratio_paragraph)"
   ]
  },
  {
   "cell_type": "code",
   "execution_count": 91,
   "metadata": {
    "collapsed": true
   },
   "outputs": [],
   "source": [
    "par_lst = ratio_paragraph.split('. ')"
   ]
  },
  {
   "cell_type": "code",
   "execution_count": 92,
   "metadata": {},
   "outputs": [
    {
     "name": "stdout",
     "output_type": "stream",
     "text": [
      "['Required Pay Ratio Disclosure    <BR>    </I></B></FONT></P>\\n\\n<P style=\"font-family:arial;\"><FONT SIZE=2>&nbsp;&nbsp;&nbsp;&nbsp;&nbsp;&nbsp;&nbsp;&nbsp;&nbsp;&nbsp;&nbsp;&nbsp;&nbsp;&nbsp;As required by Section&nbsp;953(b) of the Dodd-Frank Wall Street Reform and Consumer Protection Act and Item&nbsp;402(u) of\\nRegulation&nbsp;S-K, we are providing the following information about the relationship of the annual total compensation of our employees and the annual total compensation of our CEO, Richard\\nGonzalez', 'The pay ratio included in this information is a reasonable estimate calculated in a manner consistent with Regulation&nbsp;S-K Item&nbsp;402(u)', \"The ratio of Mr.&nbsp;Gonzalez's annual\\ntotal compensation for 2017, as reported in the Summary Compensation Table in this proxy statement, to the median employee annual total compensation determined on the same basis was 144:1\", 'For 2017,\\nthe annual total compensation of our median employee (other than Mr.&nbsp;Gonzalez) was $157,347', 'To i']\n"
     ]
    }
   ],
   "source": [
    "print(par_lst)"
   ]
  },
  {
   "cell_type": "code",
   "execution_count": 116,
   "metadata": {},
   "outputs": [
    {
     "name": "stdout",
     "output_type": "stream",
     "text": [
      "$157,347\n"
     ]
    }
   ],
   "source": [
    "for sentence in par_lst:\n",
    "    if sentence.find(\"median employee\") != -1 and sentence.find(\"$\") != -1:\n",
    "        #med_salary = re.search('\\$[0-9]+', sentence)\n",
    "        med_salary = re.search('\\$\\d+,\\d+\\d+?', sentence)\n",
    "        print(med_salary.group())"
   ]
  },
  {
   "cell_type": "code",
   "execution_count": 120,
   "metadata": {
    "collapsed": true
   },
   "outputs": [],
   "source": [
    "comps_w_med.loc[0] = ['AbbVie', med_salary.group()]\n"
   ]
  },
  {
   "cell_type": "code",
   "execution_count": 121,
   "metadata": {},
   "outputs": [
    {
     "data": {
      "text/html": [
       "<div>\n",
       "<style>\n",
       "    .dataframe thead tr:only-child th {\n",
       "        text-align: right;\n",
       "    }\n",
       "\n",
       "    .dataframe thead th {\n",
       "        text-align: left;\n",
       "    }\n",
       "\n",
       "    .dataframe tbody tr th {\n",
       "        vertical-align: top;\n",
       "    }\n",
       "</style>\n",
       "<table border=\"1\" class=\"dataframe\">\n",
       "  <thead>\n",
       "    <tr style=\"text-align: right;\">\n",
       "      <th></th>\n",
       "      <th>company</th>\n",
       "      <th>med_emp_salary</th>\n",
       "    </tr>\n",
       "  </thead>\n",
       "  <tbody>\n",
       "    <tr>\n",
       "      <th>0</th>\n",
       "      <td>AbbVie</td>\n",
       "      <td>$157,347</td>\n",
       "    </tr>\n",
       "  </tbody>\n",
       "</table>\n",
       "</div>"
      ],
      "text/plain": [
       "  company med_emp_salary\n",
       "0  AbbVie       $157,347"
      ]
     },
     "execution_count": 121,
     "metadata": {},
     "output_type": "execute_result"
    }
   ],
   "source": [
    "comps_w_med.head()"
   ]
  }
 ],
 "metadata": {
  "kernelspec": {
   "display_name": "Python 3",
   "language": "python",
   "name": "python3"
  },
  "language_info": {
   "codemirror_mode": {
    "name": "ipython",
    "version": 3
   },
   "file_extension": ".py",
   "mimetype": "text/x-python",
   "name": "python",
   "nbconvert_exporter": "python",
   "pygments_lexer": "ipython3",
   "version": "3.6.1"
  }
 },
 "nbformat": 4,
 "nbformat_minor": 2
}
